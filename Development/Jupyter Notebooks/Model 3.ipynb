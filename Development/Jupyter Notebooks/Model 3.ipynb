{
 "cells": [
  {
   "cell_type": "code",
   "execution_count": 1,
   "id": "045c0973",
   "metadata": {},
   "outputs": [
    {
     "name": "stderr",
     "output_type": "stream",
     "text": [
      "[nltk_data] Downloading package punkt to\n",
      "[nltk_data]     C:\\Users\\rajat\\AppData\\Roaming\\nltk_data...\n",
      "[nltk_data]   Package punkt is already up-to-date!\n",
      "[nltk_data] Downloading package stopwords to\n",
      "[nltk_data]     C:\\Users\\rajat\\AppData\\Roaming\\nltk_data...\n",
      "[nltk_data]   Package stopwords is already up-to-date!\n",
      "[nltk_data] Downloading package wordnet to\n",
      "[nltk_data]     C:\\Users\\rajat\\AppData\\Roaming\\nltk_data...\n",
      "[nltk_data]   Package wordnet is already up-to-date!\n",
      "[nltk_data] Downloading package omw-1.4 to\n",
      "[nltk_data]     C:\\Users\\rajat\\AppData\\Roaming\\nltk_data...\n",
      "[nltk_data]   Package omw-1.4 is already up-to-date!\n"
     ]
    }
   ],
   "source": [
    "import numpy as np\n",
    "import pandas as pd\n",
    "import matplotlib.pyplot as plt\n",
    "import tensorflow as tf\n",
    "from tensorflow import keras\n",
    "from sklearn import metrics\n",
    "from sklearn.model_selection import KFold\n",
    "from keras import models, layers\n",
    "from python_project import database_interaction as db\n",
    "from python_project import connect_database\n",
    "from dataset import Dataset"
   ]
  },
  {
   "cell_type": "code",
   "execution_count": 2,
   "id": "0aee24b5",
   "metadata": {},
   "outputs": [
    {
     "name": "stdout",
     "output_type": "stream",
     "text": [
      "4.0.0.6816\n"
     ]
    }
   ],
   "source": [
    "df = db.get_dataframe()\n",
    "df_org = df.copy()"
   ]
  },
  {
   "cell_type": "code",
   "execution_count": 11,
   "id": "fc632f5a",
   "metadata": {},
   "outputs": [
    {
     "name": "stderr",
     "output_type": "stream",
     "text": [
      "WARNING:cassandra.cluster:Downgrading core protocol version from 66 to 65 for 30f9ec55-8e9a-4b98-944e-bdc3e4b7d43b-asia-south1.db.astra.datastax.com:29042:379d8a64-3a1e-4e89-882e-dc4b809a0c57. To avoid this, it is best practice to explicitly set Cluster(protocol_version) to the version supported by your cluster. http://datastax.github.io/python-driver/api/cassandra/cluster.html#cassandra.cluster.Cluster.protocol_version\n",
      "WARNING:cassandra.cluster:Downgrading core protocol version from 65 to 5 for 30f9ec55-8e9a-4b98-944e-bdc3e4b7d43b-asia-south1.db.astra.datastax.com:29042:379d8a64-3a1e-4e89-882e-dc4b809a0c57. To avoid this, it is best practice to explicitly set Cluster(protocol_version) to the version supported by your cluster. http://datastax.github.io/python-driver/api/cassandra/cluster.html#cassandra.cluster.Cluster.protocol_version\n",
      "ERROR:cassandra.connection:Closing connection <AsyncoreConnection(2483437350584) 30f9ec55-8e9a-4b98-944e-bdc3e4b7d43b-asia-south1.db.astra.datastax.com:29042:379d8a64-3a1e-4e89-882e-dc4b809a0c57> due to protocol error: Error from server: code=000a [Protocol error] message=\"Beta version of the protocol used (5/v5-beta), but USE_BETA flag is unset\"\n",
      "WARNING:cassandra.cluster:Downgrading core protocol version from 5 to 4 for 30f9ec55-8e9a-4b98-944e-bdc3e4b7d43b-asia-south1.db.astra.datastax.com:29042:379d8a64-3a1e-4e89-882e-dc4b809a0c57. To avoid this, it is best practice to explicitly set Cluster(protocol_version) to the version supported by your cluster. http://datastax.github.io/python-driver/api/cassandra/cluster.html#cassandra.cluster.Cluster.protocol_version\n"
     ]
    },
    {
     "name": "stdout",
     "output_type": "stream",
     "text": [
      "4.0.0.6816\n"
     ]
    }
   ],
   "source": [
    "from cassandra.cluster import Cluster\n",
    "from cassandra.auth import PlainTextAuthProvider\n",
    "\n",
    "# configuration\n",
    "cloud_config= {\n",
    "        'secure_connect_bundle': r\"C:\\Users\\rajat\\Downloads\\secure-connect-news-articles.zip\"\n",
    "}\n",
    "\n",
    "# authentication details\n",
    "auth_provider = PlainTextAuthProvider('KQXuSjNiyLpIXJSpjwhZHSmD', 'ilouHT6e.xn_LaXhxZ-WAdi0wwR-2.wQFe.-0Nawqv+TDAEO+RF-cZe9WrLzPB+_26eKQWBLgbAO61l5.RtYqqS2GPsmZTNe0,fTFJlIo7+Um+pRKWtUOA8-0Qgr0edl')\n",
    "\n",
    "# connecting to cluster using configuration and authentication details\n",
    "cluster = Cluster(cloud=cloud_config, auth_provider=auth_provider)\n",
    "session = cluster.connect()\n",
    "\n",
    "# using the session we can execute commands on the cassandra database\n",
    "row = session.execute(\"select release_version from system.local\").one()\n",
    "\n",
    "# checking for a successful query\n",
    "if row:\n",
    "    print(row[0])\n",
    "else:\n",
    "    print(\"An error occurred.\")"
   ]
  },
  {
   "cell_type": "code",
   "execution_count": 12,
   "id": "14e0fd23",
   "metadata": {},
   "outputs": [],
   "source": [
    "row = session.execute(\"SELECT * FROM news_articles.train_2\").all()"
   ]
  },
  {
   "cell_type": "code",
   "execution_count": null,
   "id": "6d352ef6",
   "metadata": {},
   "outputs": [],
   "source": []
  },
  {
   "cell_type": "code",
   "execution_count": 3,
   "id": "5f0e2265",
   "metadata": {},
   "outputs": [
    {
     "data": {
      "text/html": [
       "<div>\n",
       "<style scoped>\n",
       "    .dataframe tbody tr th:only-of-type {\n",
       "        vertical-align: middle;\n",
       "    }\n",
       "\n",
       "    .dataframe tbody tr th {\n",
       "        vertical-align: top;\n",
       "    }\n",
       "\n",
       "    .dataframe thead th {\n",
       "        text-align: right;\n",
       "    }\n",
       "</style>\n",
       "<table border=\"1\" class=\"dataframe\">\n",
       "  <thead>\n",
       "    <tr style=\"text-align: right;\">\n",
       "      <th></th>\n",
       "      <th>article_id</th>\n",
       "      <th>news</th>\n",
       "      <th>category</th>\n",
       "    </tr>\n",
       "  </thead>\n",
       "  <tbody>\n",
       "    <tr>\n",
       "      <th>0</th>\n",
       "      <td>1584</td>\n",
       "      <td>alicia keys to open us super bowl r&amp;b star ali...</td>\n",
       "      <td>entertainment</td>\n",
       "    </tr>\n",
       "    <tr>\n",
       "      <th>1</th>\n",
       "      <td>1863</td>\n",
       "      <td>johnson uncertain about euro bid jade johnson ...</td>\n",
       "      <td>sport</td>\n",
       "    </tr>\n",
       "    <tr>\n",
       "      <th>2</th>\n",
       "      <td>1765</td>\n",
       "      <td>nintendo ds aims to touch gamers the mobile ga...</td>\n",
       "      <td>tech</td>\n",
       "    </tr>\n",
       "    <tr>\n",
       "      <th>3</th>\n",
       "      <td>2062</td>\n",
       "      <td>turkey deal  to help world peace  a deal bring...</td>\n",
       "      <td>politics</td>\n",
       "    </tr>\n",
       "    <tr>\n",
       "      <th>4</th>\n",
       "      <td>1199</td>\n",
       "      <td>sales  fail to boost high street  the january ...</td>\n",
       "      <td>business</td>\n",
       "    </tr>\n",
       "    <tr>\n",
       "      <th>...</th>\n",
       "      <td>...</td>\n",
       "      <td>...</td>\n",
       "      <td>...</td>\n",
       "    </tr>\n",
       "    <tr>\n",
       "      <th>1485</th>\n",
       "      <td>2086</td>\n",
       "      <td>mobile games come of age the bbc news website ...</td>\n",
       "      <td>tech</td>\n",
       "    </tr>\n",
       "    <tr>\n",
       "      <th>1486</th>\n",
       "      <td>232</td>\n",
       "      <td>mrs howard gets key election role michael howa...</td>\n",
       "      <td>politics</td>\n",
       "    </tr>\n",
       "    <tr>\n",
       "      <th>1487</th>\n",
       "      <td>1843</td>\n",
       "      <td>mitsubishi in peugeot link talks trouble hit m...</td>\n",
       "      <td>business</td>\n",
       "    </tr>\n",
       "    <tr>\n",
       "      <th>1488</th>\n",
       "      <td>986</td>\n",
       "      <td>cup holders man utd visit everton holders manc...</td>\n",
       "      <td>sport</td>\n",
       "    </tr>\n",
       "    <tr>\n",
       "      <th>1489</th>\n",
       "      <td>1614</td>\n",
       "      <td>sprinter walker quits athletics former europea...</td>\n",
       "      <td>sport</td>\n",
       "    </tr>\n",
       "  </tbody>\n",
       "</table>\n",
       "<p>1490 rows × 3 columns</p>\n",
       "</div>"
      ],
      "text/plain": [
       "      article_id                                               news  \\\n",
       "0           1584  alicia keys to open us super bowl r&b star ali...   \n",
       "1           1863  johnson uncertain about euro bid jade johnson ...   \n",
       "2           1765  nintendo ds aims to touch gamers the mobile ga...   \n",
       "3           2062  turkey deal  to help world peace  a deal bring...   \n",
       "4           1199  sales  fail to boost high street  the january ...   \n",
       "...          ...                                                ...   \n",
       "1485        2086  mobile games come of age the bbc news website ...   \n",
       "1486         232  mrs howard gets key election role michael howa...   \n",
       "1487        1843  mitsubishi in peugeot link talks trouble hit m...   \n",
       "1488         986  cup holders man utd visit everton holders manc...   \n",
       "1489        1614  sprinter walker quits athletics former europea...   \n",
       "\n",
       "           category  \n",
       "0     entertainment  \n",
       "1             sport  \n",
       "2              tech  \n",
       "3          politics  \n",
       "4          business  \n",
       "...             ...  \n",
       "1485           tech  \n",
       "1486       politics  \n",
       "1487       business  \n",
       "1488          sport  \n",
       "1489          sport  \n",
       "\n",
       "[1490 rows x 3 columns]"
      ]
     },
     "execution_count": 3,
     "metadata": {},
     "output_type": "execute_result"
    }
   ],
   "source": [
    "df"
   ]
  },
  {
   "cell_type": "code",
   "execution_count": 4,
   "id": "6089d6ef",
   "metadata": {},
   "outputs": [],
   "source": [
    "dataset = Dataset(df, num_words=2000)\n",
    "x_train = dataset.get_train_data()\n",
    "df = df_org.copy()\n",
    "y_train = dataset.get_labels(dataframe=df, target='category')"
   ]
  },
  {
   "cell_type": "code",
   "execution_count": 5,
   "id": "93ed1dd5",
   "metadata": {},
   "outputs": [
    {
     "data": {
      "text/plain": [
       "array([[0., 1., 1., ..., 0., 0., 0.],\n",
       "       [0., 1., 1., ..., 0., 0., 0.],\n",
       "       [0., 1., 1., ..., 0., 0., 0.],\n",
       "       ...,\n",
       "       [0., 1., 1., ..., 0., 0., 0.],\n",
       "       [0., 0., 0., ..., 0., 0., 0.],\n",
       "       [0., 1., 1., ..., 0., 0., 0.]])"
      ]
     },
     "execution_count": 5,
     "metadata": {},
     "output_type": "execute_result"
    }
   ],
   "source": [
    "x_train"
   ]
  },
  {
   "cell_type": "code",
   "execution_count": 6,
   "id": "f309da63",
   "metadata": {},
   "outputs": [],
   "source": [
    "# cross-validate \n",
    "kf = KFold(n_splits=6, shuffle=True, random_state=42)"
   ]
  },
  {
   "cell_type": "code",
   "execution_count": 7,
   "id": "b835d113",
   "metadata": {},
   "outputs": [
    {
     "name": "stdout",
     "output_type": "stream",
     "text": [
      "Fold Number: 1\n",
      "Loss for Fold 1 : 0.9598393574297188\n",
      "Fold Number: 2\n",
      "Loss for Fold 2 : 0.9397590361445783\n",
      "Fold Number: 3\n",
      "Loss for Fold 3 : 0.9798387096774194\n",
      "Fold Number: 4\n",
      "Loss for Fold 4 : 0.9596774193548387\n",
      "Fold Number: 5\n",
      "Loss for Fold 5 : 0.9798387096774194\n",
      "Fold Number: 6\n",
      "Loss for Fold 6 : 0.9838709677419355\n",
      "\n",
      "\n",
      "Total loss computed : 0.9671373666709849\n"
     ]
    }
   ],
   "source": [
    "fold = 0\n",
    "oos_y = list()\n",
    "oos_pred = list()\n",
    "all_scores = list()\n",
    "\n",
    "for train, test in kf.split(x_train):\n",
    "    \n",
    "    fold += 1\n",
    "    print(f\"Fold Number: {fold}\")\n",
    "#     print(train.shape)\n",
    "#     print(test)\n",
    "    x_train_fold = x_train[train]\n",
    "    y_train_fold = y_train[train]\n",
    "    x_test_fold = x_train[test]\n",
    "    y_test_fold = y_train[test]\n",
    "    \n",
    "    model = models.Sequential([\n",
    "        layers.Dense(6, activation='relu', input_shape=(2000,)),\n",
    "        layers.Dense(8, activation='relu'),\n",
    "        layers.Dense(5, activation='softmax')\n",
    "    ])\n",
    "    \n",
    "    opt = tf.keras.optimizers.Adam(learning_rate=0.001)\n",
    "    model.compile(optimizer=opt,\n",
    "    loss='categorical_crossentropy',\n",
    "    metrics=['acc'])\n",
    "    \n",
    "    history = model.fit(\n",
    "    x_train_fold, \n",
    "    y_train_fold,\n",
    "    epochs=10,\n",
    "    batch_size=1,\n",
    "    verbose=0,\n",
    "    validation_data=(x_test_fold, y_test_fold)\n",
    "    )\n",
    "    \n",
    "    pred = model.predict(x_test_fold)\n",
    "    pred_comp = np.argmax(pred, axis=1)\n",
    "    \n",
    "#     oos_y.append(y_test_fold)\n",
    "#     oos_pred.append(pred)\n",
    "    \n",
    "    y_test_comp = np.argmax(y_test_fold, axis=1)\n",
    "    \n",
    "    oos_y.append(y_test_comp)\n",
    "    oos_pred.append(pred_comp)\n",
    "    \n",
    "    # Measuring this fold's RMSE\n",
    "    # cce = tf.keras.losses.CategoricalCrossentropy()\n",
    "    # print(f\"Loss for Fold {fold} : {cce(y_test_fold, pred).numpy()}\")\n",
    "    score = metrics.accuracy_score(y_test_comp, pred_comp)\n",
    "    print(f\"Loss for Fold {fold} : {score}\")\n",
    "    all_scores.append(score)\n",
    "    \n",
    "# Build the oos prediction list and calculate the error\n",
    "oos_y = np.concatenate(oos_y)\n",
    "oos_pred = np.concatenate(oos_pred)\n",
    "\n",
    "# cce = tf.keras.losses.CategoricalCrossentropy()\n",
    "# print(f\"Total Loss Computed : {cce(oos_y, oos_pred).numpy()}\")\n",
    "score = np.array(all_scores).mean()\n",
    "print(f\"\\n\\nTotal loss computed : {score}\")"
   ]
  },
  {
   "cell_type": "code",
   "execution_count": 8,
   "id": "bd340346",
   "metadata": {},
   "outputs": [
    {
     "data": {
      "image/png": "[encoded data removed]",
      "text/plain": [
       "<Figure size 432x288 with 1 Axes>"
      ]
     },
     "metadata": {
      "needs_background": "light"
     },
     "output_type": "display_data"
    }
   ],
   "source": [
    "loss = history.history['loss']\n",
    "val_loss = history.history['val_loss']\n",
    "\n",
    "epochs = range(1, len(loss) + 1)\n",
    "\n",
    "plt.plot(epochs, loss, label='train_loss')\n",
    "plt.plot(epochs, val_loss, label='val_loss')\n",
    "\n",
    "plt.title('Loss vs Epochs')\n",
    "plt.xlabel('Epochs')\n",
    "plt.ylabel('Loss')\n",
    "plt.legend()\n",
    "\n",
    "plt.show()"
   ]
  },
  {
   "cell_type": "code",
   "execution_count": 9,
   "id": "f3fac7f4",
   "metadata": {},
   "outputs": [
    {
     "data": {
      "image/png": "[encoded data removed]",
      "text/plain": [
       "<Figure size 432x288 with 1 Axes>"
      ]
     },
     "metadata": {
      "needs_background": "light"
     },
     "output_type": "display_data"
    }
   ],
   "source": [
    "acc = history.history['acc']\n",
    "val_acc = history.history['val_acc']\n",
    "\n",
    "epochs = range(1, len(loss) + 1)\n",
    "\n",
    "plt.plot(epochs, acc, label='acc')\n",
    "plt.plot(epochs, val_acc, label='val_acc')\n",
    "\n",
    "plt.title('Accuracy vs Epochs')\n",
    "plt.xlabel('Epochs')\n",
    "plt.ylabel('Accuracy')\n",
    "plt.legend()\n",
    "\n",
    "plt.show()"
   ]
  },
  {
   "cell_type": "markdown",
   "id": "eb90b573",
   "metadata": {},
   "source": [
    "# Final Model Training"
   ]
  },
  {
   "cell_type": "code",
   "execution_count": 69,
   "id": "e093674d",
   "metadata": {},
   "outputs": [],
   "source": [
    "# model = models.Sequential([\n",
    "#         layers.Dense(6, activation='relu', input_shape=(2000,)),\n",
    "#         layers.Dense(8, activation='relu'),\n",
    "#         layers.Dense(5, activation='softmax')\n",
    "# ])\n",
    "\n",
    "# opt = tf.keras.optimizers.Adam(learning_rate=0.001)\n",
    "# model.compile(optimizer=opt,\n",
    "# loss='categorical_crossentropy',\n",
    "# metrics=['acc'])"
   ]
  },
  {
   "cell_type": "code",
   "execution_count": 44,
   "id": "4ff3cde3",
   "metadata": {},
   "outputs": [
    {
     "data": {
      "text/plain": [
       "array([[0., 1., 0., 0., 0.],\n",
       "       [0., 0., 0., 1., 0.],\n",
       "       [0., 0., 0., 0., 1.],\n",
       "       ...,\n",
       "       [1., 0., 0., 0., 0.],\n",
       "       [0., 0., 0., 1., 0.],\n",
       "       [0., 0., 0., 1., 0.]], dtype=float32)"
      ]
     },
     "execution_count": 44,
     "metadata": {},
     "output_type": "execute_result"
    }
   ],
   "source": [
    "y_train"
   ]
  },
  {
   "cell_type": "code",
   "execution_count": 10,
   "id": "6b954253",
   "metadata": {},
   "outputs": [
    {
     "name": "stdout",
     "output_type": "stream",
     "text": [
      "Epoch 1/10\n",
      "1490/1490 [==============================] - 3s 2ms/step - loss: 0.0231 - acc: 0.9953\n",
      "Epoch 2/10\n",
      "1490/1490 [==============================] - 3s 2ms/step - loss: 0.0049 - acc: 0.9993\n",
      "Epoch 3/10\n",
      "1490/1490 [==============================] - 4s 2ms/step - loss: 0.0035 - acc: 0.9993\n",
      "Epoch 4/10\n",
      "1490/1490 [==============================] - 4s 3ms/step - loss: 0.0018 - acc: 0.9993\n",
      "Epoch 5/10\n",
      "1490/1490 [==============================] - 4s 3ms/step - loss: 9.6674e-04 - acc: 0.9993\n",
      "Epoch 6/10\n",
      "1490/1490 [==============================] - 4s 2ms/step - loss: 0.0011 - acc: 0.9993\n",
      "Epoch 7/10\n",
      "1490/1490 [==============================] - 3s 2ms/step - loss: 9.7811e-04 - acc: 0.9993\n",
      "Epoch 8/10\n",
      "1490/1490 [==============================] - 4s 3ms/step - loss: 9.6005e-04 - acc: 0.9993\n",
      "Epoch 9/10\n",
      "1490/1490 [==============================] - 4s 3ms/step - loss: 8.1899e-04 - acc: 0.9993\n",
      "Epoch 10/10\n",
      "1490/1490 [==============================] - 4s 2ms/step - loss: 7.3640e-04 - acc: 0.9993\n"
     ]
    }
   ],
   "source": [
    "history = model.fit(\n",
    "x_train, \n",
    "y_train,\n",
    "epochs=10,\n",
    "batch_size=1\n",
    ")"
   ]
  },
  {
   "cell_type": "markdown",
   "id": "1ec65a11",
   "metadata": {},
   "source": [
    "# Making Predictions On Test Data"
   ]
  },
  {
   "cell_type": "code",
   "execution_count": 11,
   "id": "10e6e833",
   "metadata": {},
   "outputs": [],
   "source": [
    "test = pd.read_csv('test.csv')\n",
    "\n",
    "test.rename(columns = {'text':'news'}, inplace = True)\n",
    "\n",
    "test['news'] = test['news'].apply(dataset.preprocess)"
   ]
  },
  {
   "cell_type": "code",
   "execution_count": 12,
   "id": "b7586db5",
   "metadata": {},
   "outputs": [],
   "source": [
    "# getting tokenizer on which the train dataset was trained!! \n",
    "# not training a separate tokenizer for test dataset\n",
    "\n",
    "tokenizer = dataset.get_tokenizer()"
   ]
  },
  {
   "cell_type": "code",
   "execution_count": 13,
   "id": "daa2f9cf",
   "metadata": {},
   "outputs": [],
   "source": [
    "x_test_seq = dataset.convert_texts_to_sequences(test)\n",
    "\n",
    "x_test = dataset.vectorize_sequences(x_test_seq)"
   ]
  },
  {
   "cell_type": "code",
   "execution_count": 14,
   "id": "84947bf0",
   "metadata": {},
   "outputs": [],
   "source": [
    "predictions = model.predict(x_test)"
   ]
  },
  {
   "cell_type": "code",
   "execution_count": 15,
   "id": "308ee7f0",
   "metadata": {},
   "outputs": [],
   "source": [
    "df = df_org.copy()"
   ]
  },
  {
   "cell_type": "code",
   "execution_count": 16,
   "id": "528ca398",
   "metadata": {},
   "outputs": [
    {
     "data": {
      "text/html": [
       "<div>\n",
       "<style scoped>\n",
       "    .dataframe tbody tr th:only-of-type {\n",
       "        vertical-align: middle;\n",
       "    }\n",
       "\n",
       "    .dataframe tbody tr th {\n",
       "        vertical-align: top;\n",
       "    }\n",
       "\n",
       "    .dataframe thead th {\n",
       "        text-align: right;\n",
       "    }\n",
       "</style>\n",
       "<table border=\"1\" class=\"dataframe\">\n",
       "  <thead>\n",
       "    <tr style=\"text-align: right;\">\n",
       "      <th></th>\n",
       "      <th>article_id</th>\n",
       "      <th>news</th>\n",
       "      <th>category</th>\n",
       "    </tr>\n",
       "  </thead>\n",
       "  <tbody>\n",
       "    <tr>\n",
       "      <th>0</th>\n",
       "      <td>1584</td>\n",
       "      <td>alicia keys to open us super bowl r&amp;b star ali...</td>\n",
       "      <td>entertainment</td>\n",
       "    </tr>\n",
       "    <tr>\n",
       "      <th>1</th>\n",
       "      <td>1863</td>\n",
       "      <td>johnson uncertain about euro bid jade johnson ...</td>\n",
       "      <td>sport</td>\n",
       "    </tr>\n",
       "    <tr>\n",
       "      <th>2</th>\n",
       "      <td>1765</td>\n",
       "      <td>nintendo ds aims to touch gamers the mobile ga...</td>\n",
       "      <td>tech</td>\n",
       "    </tr>\n",
       "    <tr>\n",
       "      <th>3</th>\n",
       "      <td>2062</td>\n",
       "      <td>turkey deal  to help world peace  a deal bring...</td>\n",
       "      <td>politics</td>\n",
       "    </tr>\n",
       "    <tr>\n",
       "      <th>4</th>\n",
       "      <td>1199</td>\n",
       "      <td>sales  fail to boost high street  the january ...</td>\n",
       "      <td>business</td>\n",
       "    </tr>\n",
       "  </tbody>\n",
       "</table>\n",
       "</div>"
      ],
      "text/plain": [
       "   article_id                                               news  \\\n",
       "0        1584  alicia keys to open us super bowl r&b star ali...   \n",
       "1        1863  johnson uncertain about euro bid jade johnson ...   \n",
       "2        1765  nintendo ds aims to touch gamers the mobile ga...   \n",
       "3        2062  turkey deal  to help world peace  a deal bring...   \n",
       "4        1199  sales  fail to boost high street  the january ...   \n",
       "\n",
       "        category  \n",
       "0  entertainment  \n",
       "1          sport  \n",
       "2           tech  \n",
       "3       politics  \n",
       "4       business  "
      ]
     },
     "execution_count": 16,
     "metadata": {},
     "output_type": "execute_result"
    }
   ],
   "source": [
    "df.head()"
   ]
  },
  {
   "cell_type": "code",
   "execution_count": 17,
   "id": "bd56c86d",
   "metadata": {},
   "outputs": [],
   "source": [
    "# label_encoder object knows how to understand word labels.\n",
    "label_encoder = dataset.get_labels(df, target='category', get_encoder_only=True)"
   ]
  },
  {
   "cell_type": "code",
   "execution_count": 18,
   "id": "338a83b2",
   "metadata": {},
   "outputs": [],
   "source": [
    "category_number = [np.argmax(x) for x in predictions]\n",
    "names = label_encoder.inverse_transform(category_number)\n",
    "preds = pd.DataFrame({'ArticleId': test['article_id'], 'Category': names})"
   ]
  },
  {
   "cell_type": "code",
   "execution_count": 19,
   "id": "b8821a5f",
   "metadata": {},
   "outputs": [],
   "source": [
    "preds.to_csv('submission_news.csv', index=False)"
   ]
  },
  {
   "cell_type": "code",
   "execution_count": 20,
   "id": "1486bd5f",
   "metadata": {},
   "outputs": [
    {
     "data": {
      "text/html": [
       "<div>\n",
       "<style scoped>\n",
       "    .dataframe tbody tr th:only-of-type {\n",
       "        vertical-align: middle;\n",
       "    }\n",
       "\n",
       "    .dataframe tbody tr th {\n",
       "        vertical-align: top;\n",
       "    }\n",
       "\n",
       "    .dataframe thead th {\n",
       "        text-align: right;\n",
       "    }\n",
       "</style>\n",
       "<table border=\"1\" class=\"dataframe\">\n",
       "  <thead>\n",
       "    <tr style=\"text-align: right;\">\n",
       "      <th></th>\n",
       "      <th>ArticleId</th>\n",
       "      <th>Category</th>\n",
       "    </tr>\n",
       "  </thead>\n",
       "  <tbody>\n",
       "    <tr>\n",
       "      <th>0</th>\n",
       "      <td>1018</td>\n",
       "      <td>sport</td>\n",
       "    </tr>\n",
       "    <tr>\n",
       "      <th>1</th>\n",
       "      <td>1319</td>\n",
       "      <td>tech</td>\n",
       "    </tr>\n",
       "    <tr>\n",
       "      <th>2</th>\n",
       "      <td>1138</td>\n",
       "      <td>sport</td>\n",
       "    </tr>\n",
       "    <tr>\n",
       "      <th>3</th>\n",
       "      <td>459</td>\n",
       "      <td>business</td>\n",
       "    </tr>\n",
       "    <tr>\n",
       "      <th>4</th>\n",
       "      <td>1020</td>\n",
       "      <td>sport</td>\n",
       "    </tr>\n",
       "  </tbody>\n",
       "</table>\n",
       "</div>"
      ],
      "text/plain": [
       "   ArticleId  Category\n",
       "0       1018     sport\n",
       "1       1319      tech\n",
       "2       1138     sport\n",
       "3        459  business\n",
       "4       1020     sport"
      ]
     },
     "execution_count": 20,
     "metadata": {},
     "output_type": "execute_result"
    }
   ],
   "source": [
    "preds.head()"
   ]
  },
  {
   "cell_type": "code",
   "execution_count": null,
   "id": "9efe59b0",
   "metadata": {},
   "outputs": [],
   "source": []
  },
  {
   "cell_type": "markdown",
   "id": "181cc986",
   "metadata": {},
   "source": [
    "## Preprocess Layer"
   ]
  },
  {
   "cell_type": "code",
   "execution_count": null,
   "id": "e081332f",
   "metadata": {},
   "outputs": [],
   "source": []
  },
  {
   "cell_type": "code",
   "execution_count": null,
   "id": "63b08356",
   "metadata": {},
   "outputs": [],
   "source": [
    "sample_sequence = dataset.convert_texts_to_sequences(sample_news, text_only=True)\n",
    "\n",
    "# sequences = self.tokenizer.texts_to_sequences(list(dataframe))\n",
    "#\n",
    "#\n",
    "\n",
    "sample_test = dataset.vectorize_sequences(sample_sequence)\n",
    "\n",
    "# results = np.zeros((len(sequences), self.dimension))\n",
    "\n",
    "#         for i, sequence in enumerate(sequences):\n",
    "#             results[i, sequence] = 1.0\n",
    "\n",
    "predictions = model.predict(sample_test)"
   ]
  },
  {
   "cell_type": "code",
   "execution_count": null,
   "id": "d1c1f70b",
   "metadata": {},
   "outputs": [],
   "source": [
    "class PreprocessLayer(keras.layers.Layer):\n",
    "    \n",
    "    def adapt(self, data_sample, dimension=2000):\n",
    "        \n",
    "        with open('tokenizer.pickle', 'rb') as handle:\n",
    "            tokenizer = pickle.load(handle)\n",
    "        \n",
    "        dataset = Dataset(data_sample, num_words=2000)\n",
    "        data_sample = data_sample[0].apply(dataset.preprocess)\n",
    "        sequences = tokenizer.texts_to_sequences(data_sample)\n",
    "        results = np.zeros((len(sequences), dimension))\n",
    "        for i, sequence in enumerate(sequences):\n",
    "            results[i, sequence] = 1.0\n",
    "        self.result = results\n",
    "        \n",
    "    def call(self, inputs):\n",
    "        return self.result"
   ]
  },
  {
   "cell_type": "code",
   "execution_count": null,
   "id": "c713f89b",
   "metadata": {},
   "outputs": [],
   "source": [
    "list_of_news = pd.DataFrame(list(df['news']))"
   ]
  },
  {
   "cell_type": "code",
   "execution_count": null,
   "id": "5595dc72",
   "metadata": {},
   "outputs": [],
   "source": [
    "pre_layer = PreprocessLayer()\n",
    "pre_layer.adapt(list_of_news)"
   ]
  },
  {
   "cell_type": "code",
   "execution_count": null,
   "id": "2b2b2dde",
   "metadata": {},
   "outputs": [],
   "source": [
    "pre_layer.result"
   ]
  },
  {
   "cell_type": "code",
   "execution_count": null,
   "id": "d772f102",
   "metadata": {},
   "outputs": [],
   "source": [
    "df['news']"
   ]
  },
  {
   "cell_type": "code",
   "execution_count": null,
   "id": "9ed3ef40",
   "metadata": {},
   "outputs": [],
   "source": [
    "x_train_news = list(df['news'])\n",
    "y_train_news = list(df['category'])"
   ]
  },
  {
   "cell_type": "code",
   "execution_count": null,
   "id": "d0c2f40c",
   "metadata": {},
   "outputs": [],
   "source": [
    "x_train_news"
   ]
  },
  {
   "cell_type": "code",
   "execution_count": null,
   "id": "57cdbfd9",
   "metadata": {},
   "outputs": [],
   "source": [
    "model = models.Sequential([\n",
    "    pre_layer,\n",
    "    layers.Dense(6, activation='relu', input_shape=(2000,)),\n",
    "    layers.Dense(8, activation='relu'),\n",
    "    layers.Dense(5, activation='softmax')\n",
    "])\n",
    "\n",
    "opt = tf.keras.optimizers.Adam(learning_rate=0.001)\n",
    "model.compile(optimizer=opt,\n",
    "loss='categorical_crossentropy',\n",
    "metrics=['acc'])"
   ]
  },
  {
   "cell_type": "code",
   "execution_count": null,
   "id": "4ceaa1ec",
   "metadata": {},
   "outputs": [],
   "source": [
    "model.build((2000,))"
   ]
  },
  {
   "cell_type": "code",
   "execution_count": null,
   "id": "63dcd21e",
   "metadata": {},
   "outputs": [],
   "source": [
    "model.summary()"
   ]
  },
  {
   "cell_type": "code",
   "execution_count": null,
   "id": "1fc2945f",
   "metadata": {},
   "outputs": [],
   "source": [
    "history = model.fit(\n",
    "x_train_news, \n",
    "y_train_news,\n",
    "epochs=10,\n",
    "batch_size=1,\n",
    "verbose=0,\n",
    "# validation_data=(x_test_fold, y_test_fold)\n",
    ")"
   ]
  },
  {
   "cell_type": "markdown",
   "id": "7a8a16b2",
   "metadata": {},
   "source": [
    "## Making a single prediction"
   ]
  },
  {
   "cell_type": "code",
   "execution_count": 21,
   "id": "c5d98359",
   "metadata": {},
   "outputs": [],
   "source": [
    "import pickle"
   ]
  },
  {
   "cell_type": "code",
   "execution_count": 21,
   "id": "52c3b3ef",
   "metadata": {},
   "outputs": [
    {
     "data": {
      "text/plain": [
       "'/home/rajat/Projects/iNeuron/News/News-Article-Sorting'"
      ]
     },
     "execution_count": 21,
     "metadata": {},
     "output_type": "execute_result"
    }
   ],
   "source": [
    "import os\n",
    "os.getcwd()"
   ]
  },
  {
   "cell_type": "code",
   "execution_count": 22,
   "id": "08311dfb",
   "metadata": {},
   "outputs": [
    {
     "data": {
      "text/plain": [
       "['Model 4.ipynb',\n",
       " '.ipynb_checkpoints',\n",
       " 'news_classification_model',\n",
       " 'logs.txt',\n",
       " 'python_project',\n",
       " 'train.csv',\n",
       " 'token.txt',\n",
       " 'tokenizer.pickle',\n",
       " 'test.csv',\n",
       " '.git',\n",
       " 'preprocess.py',\n",
       " 'Model.ipynb',\n",
       " 'submission_news.csv',\n",
       " 'dataset.py',\n",
       " 'Database Interaction Notebook.ipynb',\n",
       " 'Model 3.ipynb',\n",
       " '__pycache__',\n",
       " '.gitignore',\n",
       " 'README.md',\n",
       " 'preprocess_layer.py',\n",
       " 'label_encoder.pickle',\n",
       " 'EDA.ipynb',\n",
       " 'Model 2.ipynb']"
      ]
     },
     "execution_count": 22,
     "metadata": {},
     "output_type": "execute_result"
    }
   ],
   "source": [
    "os.listdir(os.getcwd())"
   ]
  },
  {
   "cell_type": "code",
   "execution_count": 23,
   "id": "0ad9ab6b",
   "metadata": {},
   "outputs": [],
   "source": [
    "infile = open('tokenizer.pickle', 'rb')\n",
    "tokenizer = pickle.load(infile)\n",
    "# infile.close()"
   ]
  },
  {
   "cell_type": "code",
   "execution_count": 22,
   "id": "105b0d8c",
   "metadata": {},
   "outputs": [],
   "source": [
    "with open('tokenizer.pickle', 'wb') as handle:\n",
    "    pickle.dump(tokenizer, handle, protocol=pickle.HIGHEST_PROTOCOL)\n",
    "\n",
    "# with open('tokenizer.pickle', 'rb') as handle:\n",
    "#     tokenizer = pickle.load(handle)\n",
    "    "
   ]
  },
  {
   "cell_type": "code",
   "execution_count": 25,
   "id": "625f6437",
   "metadata": {},
   "outputs": [],
   "source": [
    "input_news = 'qpr keeper day head preston queen park ranger keeper chris day set join preston month loan day displaced arrival simon royce second month loan charlton qpr also signed italian generoso rossi r manager ian holloway said might say risk recalled month simon royce recalled charlton iron fire yes couple others need day ranger contract expires summer meanwhile holloway hoping complete signing middlesbrough defender andy davy either permanently loan saturday match ipswich davy impressed recent loan spell loftus road holloway also chasing bristol city midfielder tom doherty'\n"
   ]
  },
  {
   "cell_type": "code",
   "execution_count": null,
   "id": "e27f1ad0",
   "metadata": {},
   "outputs": [],
   "source": [
    "preprocess_layer = PreprocessLayer()\n",
    "preprocess_layer.adapt(input_news)"
   ]
  },
  {
   "cell_type": "code",
   "execution_count": 91,
   "id": "e9df9d6f",
   "metadata": {},
   "outputs": [],
   "source": [
    "sample_news = ['qpr keeper day head preston queen park ranger keeper chris day set join preston month loan day displaced arrival simon royce second month loan charlton qpr also signed italian generoso rossi r manager ian holloway said might say risk recalled month simon royce recalled charlton iron fire yes couple others need day ranger contract expires summer meanwhile holloway hoping complete signing middlesbrough defender andy davy either permanently loan saturday match ipswich davy impressed recent loan spell loftus road holloway also chasing bristol city midfielder tom doherty']"
   ]
  },
  {
   "cell_type": "code",
   "execution_count": 92,
   "id": "60efea6c",
   "metadata": {},
   "outputs": [
    {
     "data": {
      "text/plain": [
       "['qpr keeper day head preston queen park ranger keeper chris day set join preston month loan day displaced arrival simon royce second month loan charlton qpr also signed italian generoso rossi r manager ian holloway said might say risk recalled month simon royce recalled charlton iron fire yes couple others need day ranger contract expires summer meanwhile holloway hoping complete signing middlesbrough defender andy davy either permanently loan saturday match ipswich davy impressed recent loan spell loftus road holloway also chasing bristol city midfielder tom doherty']"
      ]
     },
     "execution_count": 92,
     "metadata": {},
     "output_type": "execute_result"
    }
   ],
   "source": [
    "sample_news"
   ]
  },
  {
   "cell_type": "code",
   "execution_count": 97,
   "id": "af9f9d2c",
   "metadata": {},
   "outputs": [],
   "source": [
    "# sample_sequence = dataset.convert_texts_to_sequences(sample_news)\n",
    "# sample_test = dataset.vectorize_sequences(sample_sequence)\n",
    "# predictions = model.predict(sample_test)"
   ]
  },
  {
   "cell_type": "code",
   "execution_count": null,
   "id": "b098a7ea",
   "metadata": {},
   "outputs": [],
   "source": []
  },
  {
   "cell_type": "code",
   "execution_count": null,
   "id": "4640858f",
   "metadata": {},
   "outputs": [],
   "source": [
    "sample_test"
   ]
  },
  {
   "cell_type": "code",
   "execution_count": null,
   "id": "a0e0a0e4",
   "metadata": {},
   "outputs": [],
   "source": [
    "predictions"
   ]
  },
  {
   "cell_type": "code",
   "execution_count": null,
   "id": "01ca0de6",
   "metadata": {},
   "outputs": [],
   "source": [
    "prediction_category = predictions[0].argmax()"
   ]
  },
  {
   "cell_type": "code",
   "execution_count": 90,
   "id": "32ef9789",
   "metadata": {},
   "outputs": [
    {
     "ename": "NameError",
     "evalue": "name 'prediction_category' is not defined",
     "output_type": "error",
     "traceback": [
      "\u001b[0;31m---------------------------------------------------------------------------\u001b[0m",
      "\u001b[0;31mNameError\u001b[0m                                 Traceback (most recent call last)",
      "\u001b[0;32m/tmp/ipykernel_43832/3763351566.py\u001b[0m in \u001b[0;36m<module>\u001b[0;34m\u001b[0m\n\u001b[0;32m----> 1\u001b[0;31m \u001b[0mlabel_encoder\u001b[0m\u001b[0;34m.\u001b[0m\u001b[0minverse_transform\u001b[0m\u001b[0;34m(\u001b[0m\u001b[0;34m[\u001b[0m\u001b[0mprediction_category\u001b[0m\u001b[0;34m]\u001b[0m\u001b[0;34m)\u001b[0m\u001b[0;34m[\u001b[0m\u001b[0;36m0\u001b[0m\u001b[0;34m]\u001b[0m\u001b[0;34m\u001b[0m\u001b[0;34m\u001b[0m\u001b[0m\n\u001b[0m",
      "\u001b[0;31mNameError\u001b[0m: name 'prediction_category' is not defined"
     ]
    }
   ],
   "source": [
    "label_encoder.inverse_transform([prediction_category])[0]"
   ]
  },
  {
   "cell_type": "code",
   "execution_count": 23,
   "id": "1c2428f5",
   "metadata": {},
   "outputs": [],
   "source": [
    "with open('label_encoder.pickle', 'wb') as handle:\n",
    "    pickle.dump(label_encoder, handle, protocol=pickle.HIGHEST_PROTOCOL)\n",
    "\n",
    "# with open('label_encoder.pickle', 'rb') as handle:\n",
    "#     label_encoder = pickle.load(handle)"
   ]
  },
  {
   "cell_type": "code",
   "execution_count": 31,
   "id": "8ddcfe8e",
   "metadata": {},
   "outputs": [
    {
     "data": {
      "text/plain": [
       "'news_classification_model/0003'"
      ]
     },
     "execution_count": 31,
     "metadata": {},
     "output_type": "execute_result"
    }
   ],
   "source": [
    "model_version = \"0003\"\n",
    "model_name = \"news_classification_model\"\n",
    "model_path = os.path.join(model_name, model_version)\n",
    "\n",
    "model_path"
   ]
  },
  {
   "cell_type": "code",
   "execution_count": 37,
   "id": "2d6ce476",
   "metadata": {},
   "outputs": [],
   "source": [
    "model.save('news_classification_model_4.h5')"
   ]
  },
  {
   "cell_type": "code",
   "execution_count": 38,
   "id": "2ab97806",
   "metadata": {},
   "outputs": [],
   "source": [
    "saved_model = keras.models.load_model('news_classification_model_4.h5')"
   ]
  },
  {
   "cell_type": "code",
   "execution_count": 26,
   "id": "f460d58e",
   "metadata": {},
   "outputs": [],
   "source": [
    "from preprocess import (\n",
    "    lower_case,\n",
    "    remove_special_characters,\n",
    "    remove_stopwords,\n",
    "    concatenate,\n",
    "    lemmatize,\n",
    ")\n"
   ]
  },
  {
   "cell_type": "code",
   "execution_count": 27,
   "id": "fc24b06e",
   "metadata": {},
   "outputs": [],
   "source": [
    "def preprocess_text(inputs, dimension=2000):\n",
    "    \n",
    "    inputs = lower_case(inputs)\n",
    "    inputs = remove_special_characters(inputs)\n",
    "    inputs = remove_stopwords(inputs)\n",
    "    inputs = concatenate(inputs)\n",
    "    inputs = lemmatize(inputs)\n",
    "    \n",
    "    inputs = [inputs]\n",
    "    \n",
    "    sequences = tokenizer.texts_to_sequences(inputs)\n",
    "    \n",
    "    results = np.zeros((len(sequences), dimension))\n",
    "    \n",
    "    for i, sequence in enumerate(sequences):\n",
    "        results[i, sequence] = 1.0\n",
    "    \n",
    "    return results"
   ]
  },
  {
   "cell_type": "code",
   "execution_count": 45,
   "id": "e6dbf3c4",
   "metadata": {},
   "outputs": [],
   "source": [
    "sample_news = \"\"\"\n",
    "The Indian economy has “some bright spots and a number of very dark stains” and the government should target its spending “carefully” so that there are no huge deficits, noted economist and former RBI Governor Raghuram Rajan said on Sunday.\n",
    "\n",
    "Known for his frank views, Dr. Rajan also said the government needed to do more to prevent a K-shaped recovery of the economy hit by the coronavirus pandemic.\n",
    "\n",
    "Generally, a K-shaped recovery will reflect a situation where technology and large capital firms recover at a far faster rate than small businesses and industries that have been significantly impacted by the pandemic.\n",
    "\n",
    "“My greater worry about the economy is the scarring to the middle class, the small and medium sector, and our children’s minds, all of which will come into play after an initial rebound due to pent up demand. One symptom of all this is weak consumption growth, especially for mass consumption goods,” Dr. Rajan told PTI in an e-mail interview.\n",
    "\"\"\""
   ]
  },
  {
   "cell_type": "code",
   "execution_count": 46,
   "id": "a9774c28",
   "metadata": {},
   "outputs": [],
   "source": [
    "inputs = preprocess_text(sample_news)"
   ]
  },
  {
   "cell_type": "code",
   "execution_count": 47,
   "id": "3063e636",
   "metadata": {},
   "outputs": [],
   "source": [
    "y_pred = saved_model(inputs)"
   ]
  },
  {
   "cell_type": "code",
   "execution_count": 48,
   "id": "8d66064e",
   "metadata": {},
   "outputs": [
    {
     "data": {
      "text/plain": [
       "<tf.Tensor: shape=(1, 5), dtype=float32, numpy=\n",
       "array([[9.7538096e-01, 1.9016330e-03, 7.2072871e-06, 1.5101174e-06,\n",
       "        2.2708649e-02]], dtype=float32)>"
      ]
     },
     "execution_count": 48,
     "metadata": {},
     "output_type": "execute_result"
    }
   ],
   "source": [
    "y_pred"
   ]
  },
  {
   "cell_type": "code",
   "execution_count": 49,
   "id": "73641f8a",
   "metadata": {},
   "outputs": [],
   "source": [
    "category = saved_model.predict(inputs)\n",
    "# category = model(inputs, training=False, name=model.)"
   ]
  },
  {
   "cell_type": "code",
   "execution_count": 50,
   "id": "d8d8977a",
   "metadata": {},
   "outputs": [],
   "source": [
    "def result(category):\n",
    "    return label_encoder.inverse_transform([category[0].argmax()])[0]"
   ]
  },
  {
   "cell_type": "code",
   "execution_count": 51,
   "id": "bb22e5c3",
   "metadata": {},
   "outputs": [
    {
     "data": {
      "text/plain": [
       "'business'"
      ]
     },
     "execution_count": 51,
     "metadata": {},
     "output_type": "execute_result"
    }
   ],
   "source": [
    "result(category)"
   ]
  },
  {
   "cell_type": "code",
   "execution_count": null,
   "id": "cb9690b9",
   "metadata": {},
   "outputs": [],
   "source": [
    "model_name = 'news_classification_model'"
   ]
  },
  {
   "cell_type": "code",
   "execution_count": null,
   "id": "962df713",
   "metadata": {},
   "outputs": [],
   "source": [
    "from tensorflow_serving.apis.predict_pb2 import PredictRequest"
   ]
  },
  {
   "cell_type": "code",
   "execution_count": null,
   "id": "6309a82f",
   "metadata": {},
   "outputs": [],
   "source": [
    "request = PredictRequest()\n",
    "request.model_spec.name = model_name\n",
    "request.model_spec.signature_name = \"serving_default\"\n",
    "input_name = model.input_names[0]\n",
    "request.inputs[input_name].CopyFrom(tf.make_tensor_proto(sample_news))"
   ]
  },
  {
   "cell_type": "code",
   "execution_count": null,
   "id": "4198ef2e",
   "metadata": {},
   "outputs": [],
   "source": [
    "import grpc\n",
    "from tensorflow_serving.apis import prediction_service_pb2_grpc"
   ]
  },
  {
   "cell_type": "code",
   "execution_count": null,
   "id": "eda9b2ac",
   "metadata": {},
   "outputs": [],
   "source": [
    "channel = grpc.insecure_channel('localhost:5005', options=(('grpc.enable_http_proxy', 0),))\n",
    "predict_service = prediction_service_pb2_grpc.PredictionServiceStub(channel)\n",
    "response = predict_service.Predict(request, timeout=60.0)"
   ]
  },
  {
   "cell_type": "code",
   "execution_count": null,
   "id": "b6e59b0e",
   "metadata": {},
   "outputs": [],
   "source": [
    "response"
   ]
  },
  {
   "cell_type": "code",
   "execution_count": null,
   "id": "174278fd",
   "metadata": {},
   "outputs": [],
   "source": [
    "model.summary()"
   ]
  },
  {
   "cell_type": "code",
   "execution_count": null,
   "id": "d19058da",
   "metadata": {},
   "outputs": [],
   "source": []
  }
 ],
 "metadata": {
  "kernelspec": {
   "display_name": "Python 3 (ipykernel)",
   "language": "python",
   "name": "python3"
  },
  "language_info": {
   "codemirror_mode": {
    "name": "ipython",
    "version": 3
   },
   "file_extension": ".py",
   "mimetype": "text/x-python",
   "name": "python",
   "nbconvert_exporter": "python",
   "pygments_lexer": "ipython3",
   "version": "3.7.0"
  }
 },
 "nbformat": 4,
 "nbformat_minor": 5
}

{
 "cells": [
  {
   "cell_type": "code",
   "execution_count": 1,
   "metadata": {},
   "outputs": [],
   "source": [
    "import numpy as np\n",
    "import pandas as pd\n",
    "import matplotlib.pyplot as plt\n",
    "import tensorflow as tf\n",
    "from keras.preprocessing.text import Tokenizer\n",
    "from keras import models, layers\n",
    "from keras.utils.np_utils import to_categorical\n",
    "from sklearn import preprocessing\n",
    "import os\n",
    "import logging\n",
    "from sklearn.model_selection import KFold"
   ]
  },
  {
   "cell_type": "code",
   "execution_count": 2,
   "metadata": {},
   "outputs": [],
   "source": [
    "logging.basicConfig(filename='logs.txt',\n",
    "                   filemode='a',\n",
    "                   format='%(asctime)s %(levelname)s-%(message)s',\n",
    "                   datefmt='%Y-%m-%d %H:%M:%S',\n",
    "                   force=True,\n",
    "                    level=logging.INFO\n",
    "                   )"
   ]
  },
  {
   "cell_type": "code",
   "execution_count": 3,
   "metadata": {},
   "outputs": [],
   "source": [
    "from python_project import connect_database"
   ]
  },
  {
   "cell_type": "code",
   "execution_count": 4,
   "metadata": {},
   "outputs": [
    {
     "name": "stdout",
     "output_type": "stream",
     "text": [
      "4.0.0.6816\n"
     ]
    }
   ],
   "source": [
    "try_again = True\n",
    "while try_again:\n",
    "    try:\n",
    "        session = connect_database.connect()\n",
    "        try_again = False\n",
    "    except:\n",
    "        logging.error(\"Connection attempt failed! Trying again\")\n",
    "        try_again = True"
   ]
  },
  {
   "cell_type": "markdown",
   "metadata": {},
   "source": [
    "## Cleaning Data Function"
   ]
  },
  {
   "cell_type": "code",
   "execution_count": 5,
   "metadata": {},
   "outputs": [],
   "source": [
    "def clean_data(dataframe):\n",
    "    try:\n",
    "        dataframe['text'] = dataframe['text'].apply(lambda x: x.replace('-', ' '))\n",
    "    except: \n",
    "        logging.error(\"Dataframe has 'text' column missing.\")\n",
    "    return dataframe"
   ]
  },
  {
   "cell_type": "markdown",
   "metadata": {},
   "source": [
    "## Getting Data From Database"
   ]
  },
  {
   "cell_type": "code",
   "execution_count": 10,
   "metadata": {},
   "outputs": [],
   "source": [
    "from python_project import database_interaction as db"
   ]
  },
  {
   "cell_type": "code",
   "execution_count": 11,
   "metadata": {},
   "outputs": [
    {
     "name": "stdout",
     "output_type": "stream",
     "text": [
      "4.0.0.6816\n"
     ]
    }
   ],
   "source": [
    "df = db.get_dataframe()"
   ]
  },
  {
   "cell_type": "code",
   "execution_count": 12,
   "metadata": {},
   "outputs": [
    {
     "data": {
      "text/plain": [
       "array(['entertainment', 'sport', 'tech', 'politics', 'business'],\n",
       "      dtype=object)"
      ]
     },
     "execution_count": 12,
     "metadata": {},
     "output_type": "execute_result"
    }
   ],
   "source": [
    "# categories in the dataset\n",
    "df['category'].unique()"
   ]
  },
  {
   "cell_type": "code",
   "execution_count": 13,
   "metadata": {},
   "outputs": [
    {
     "data": {
      "text/html": [
       "<div>\n",
       "<style scoped>\n",
       "    .dataframe tbody tr th:only-of-type {\n",
       "        vertical-align: middle;\n",
       "    }\n",
       "\n",
       "    .dataframe tbody tr th {\n",
       "        vertical-align: top;\n",
       "    }\n",
       "\n",
       "    .dataframe thead th {\n",
       "        text-align: right;\n",
       "    }\n",
       "</style>\n",
       "<table border=\"1\" class=\"dataframe\">\n",
       "  <thead>\n",
       "    <tr style=\"text-align: right;\">\n",
       "      <th></th>\n",
       "      <th>article_id</th>\n",
       "      <th>news</th>\n",
       "      <th>category</th>\n",
       "    </tr>\n",
       "  </thead>\n",
       "  <tbody>\n",
       "    <tr>\n",
       "      <th>0</th>\n",
       "      <td>1584</td>\n",
       "      <td>alicia keys to open us super bowl r&amp;b star ali...</td>\n",
       "      <td>entertainment</td>\n",
       "    </tr>\n",
       "    <tr>\n",
       "      <th>1</th>\n",
       "      <td>1863</td>\n",
       "      <td>johnson uncertain about euro bid jade johnson ...</td>\n",
       "      <td>sport</td>\n",
       "    </tr>\n",
       "    <tr>\n",
       "      <th>2</th>\n",
       "      <td>1765</td>\n",
       "      <td>nintendo ds aims to touch gamers the mobile ga...</td>\n",
       "      <td>tech</td>\n",
       "    </tr>\n",
       "    <tr>\n",
       "      <th>3</th>\n",
       "      <td>2062</td>\n",
       "      <td>turkey deal  to help world peace  a deal bring...</td>\n",
       "      <td>politics</td>\n",
       "    </tr>\n",
       "    <tr>\n",
       "      <th>4</th>\n",
       "      <td>1199</td>\n",
       "      <td>sales  fail to boost high street  the january ...</td>\n",
       "      <td>business</td>\n",
       "    </tr>\n",
       "  </tbody>\n",
       "</table>\n",
       "</div>"
      ],
      "text/plain": [
       "   article_id                                               news  \\\n",
       "0        1584  alicia keys to open us super bowl r&b star ali...   \n",
       "1        1863  johnson uncertain about euro bid jade johnson ...   \n",
       "2        1765  nintendo ds aims to touch gamers the mobile ga...   \n",
       "3        2062  turkey deal  to help world peace  a deal bring...   \n",
       "4        1199  sales  fail to boost high street  the january ...   \n",
       "\n",
       "        category  \n",
       "0  entertainment  \n",
       "1          sport  \n",
       "2           tech  \n",
       "3       politics  \n",
       "4       business  "
      ]
     },
     "execution_count": 13,
     "metadata": {},
     "output_type": "execute_result"
    }
   ],
   "source": [
    "df.head(5)"
   ]
  },
  {
   "cell_type": "markdown",
   "metadata": {},
   "source": [
    "## Model"
   ]
  },
  {
   "cell_type": "code",
   "execution_count": 14,
   "metadata": {},
   "outputs": [],
   "source": [
    "# only considering the most common 1000 words\n",
    "# TODO: tune parameter if required\n",
    "\n",
    "tokenizer = Tokenizer(num_words=2000)\n",
    "\n",
    "# builds the word index\n",
    "tokenizer.fit_on_texts(list(df['news']))\n",
    "\n",
    "# the fitted tokenizer now converts the text to integer sequences\n",
    "train_dataset = tokenizer.texts_to_sequences(list(df['news']))\n",
    "\n",
    "logging.info(\"The dataset is retrieved from the database and is preprocessed\")\n",
    "# train_dataset = tf.keras.preprocessing.sequence.pad_sequences(sequences, padding='pre')"
   ]
  },
  {
   "cell_type": "code",
   "execution_count": 15,
   "metadata": {},
   "outputs": [],
   "source": [
    "def vectorize_sequences(sequences, dimension=2000):\n",
    "    results = np.zeros((len(sequences), dimension))\n",
    "    for i, sequence in enumerate(sequences):\n",
    "        results[i, sequence] = 1.\n",
    "    return results\n"
   ]
  },
  {
   "cell_type": "code",
   "execution_count": 16,
   "metadata": {},
   "outputs": [],
   "source": [
    "x_train = vectorize_sequences(train_dataset, dimension=2000)"
   ]
  },
  {
   "cell_type": "markdown",
   "metadata": {},
   "source": [
    "## Preparing Output Labels"
   ]
  },
  {
   "cell_type": "code",
   "execution_count": 17,
   "metadata": {},
   "outputs": [],
   "source": [
    "train_labels = list(df['category'])"
   ]
  },
  {
   "cell_type": "code",
   "execution_count": 18,
   "metadata": {},
   "outputs": [],
   "source": [
    "# label_encoder object knows how to understand word labels.\n",
    "label_encoder = preprocessing.LabelEncoder()"
   ]
  },
  {
   "cell_type": "code",
   "execution_count": 19,
   "metadata": {},
   "outputs": [],
   "source": [
    "# Encode labels in column 'species'.\n",
    "df['category']= label_encoder.fit_transform(df['category'])"
   ]
  },
  {
   "cell_type": "code",
   "execution_count": 20,
   "metadata": {},
   "outputs": [
    {
     "data": {
      "text/plain": [
       "array(['business', 'entertainment', 'politics', 'sport', 'tech'],\n",
       "      dtype=object)"
      ]
     },
     "execution_count": 20,
     "metadata": {},
     "output_type": "execute_result"
    }
   ],
   "source": [
    "label_encoder.classes_"
   ]
  },
  {
   "cell_type": "code",
   "execution_count": 21,
   "metadata": {},
   "outputs": [],
   "source": [
    "train_labels = df['category']"
   ]
  },
  {
   "cell_type": "code",
   "execution_count": 22,
   "metadata": {},
   "outputs": [
    {
     "data": {
      "text/plain": [
       "3    346\n",
       "0    336\n",
       "2    274\n",
       "1    273\n",
       "4    261\n",
       "Name: category, dtype: int64"
      ]
     },
     "execution_count": 22,
     "metadata": {},
     "output_type": "execute_result"
    }
   ],
   "source": [
    "train_labels.value_counts()"
   ]
  },
  {
   "cell_type": "code",
   "execution_count": 23,
   "metadata": {},
   "outputs": [],
   "source": [
    "y_train = to_categorical(train_labels)"
   ]
  },
  {
   "cell_type": "code",
   "execution_count": 24,
   "metadata": {},
   "outputs": [
    {
     "data": {
      "text/plain": [
       "array([0., 1., 0., 0., 0.], dtype=float32)"
      ]
     },
     "execution_count": 24,
     "metadata": {},
     "output_type": "execute_result"
    }
   ],
   "source": [
    "y_train[0]"
   ]
  },
  {
   "cell_type": "markdown",
   "metadata": {},
   "source": [
    "## Model"
   ]
  },
  {
   "cell_type": "code",
   "execution_count": 25,
   "metadata": {},
   "outputs": [],
   "source": [
    "from sklearn import metrics"
   ]
  },
  {
   "cell_type": "raw",
   "metadata": {},
   "source": [
    "fold = 0\n",
    "oos_y = list()\n",
    "oos_pred = list()\n",
    "\n",
    "for train, test in kf.split(x_train):\n",
    "    \n",
    "    fold += 1\n",
    "    print(f\"Fold Number: {fold}\")\n",
    "#     print(train.shape)\n",
    "#     print(test)\n",
    "    x_train_fold = x_train[train]\n",
    "    y_train_fold = y_train[train]\n",
    "    x_test_fold = x_train[test]\n",
    "    y_test_fold = y_train[test]\n",
    "    \n",
    "    model = models.Sequential()\n",
    "    # , kernel_regularizer=regularizers.l2(0.001)\n",
    "    model.add(layers.Dense(3, activation='relu', input_shape=(2000,)))\n",
    "    # model.add(layers.Dropout(0.4))\n",
    "    model.add(layers.Dense(6, activation='relu'))\n",
    "    model.add(layers.Dropout(0.3))\n",
    "    model.add(layers.Dense(5, activation='softmax'))\n",
    "    \n",
    "    opt = tf.keras.optimizers.Adam(learning_rate=0.001)\n",
    "    model.compile(optimizer=opt,\n",
    "    loss='categorical_crossentropy',\n",
    "    metrics=['acc'])\n",
    "    \n",
    "    history = model.fit(\n",
    "    x_train_fold, \n",
    "    y_train_fold,\n",
    "    epochs=20,\n",
    "    batch_size=1,\n",
    "    verbose=0,\n",
    "    validation_data=(x_test_fold, y_test_fold)\n",
    "    )\n",
    "    \n",
    "    pred = model.predict(x_test_fold)\n",
    "    \n",
    "    oos_y.append(y_test_fold)\n",
    "    oos_pred.append(pred)\n",
    "    \n",
    "    # Measuring this fold's RMSE\n",
    "    # cce = tf.keras.losses.CategoricalCrossentropy()\n",
    "    # print(f\"Loss for Fold {fold} : {cce(y_test_fold, pred).numpy()}\")\n",
    "    score = metrics.accuracy_score(oos_y, oos_pred)\n",
    "    print(f\"Loss for Fold {fold} : {score}\")\n",
    "    \n",
    "# Build the oos prediction list and calculate the error\n",
    "oos_y = np.concatenate(oos_y)\n",
    "oos_pred = np.concatenate(oos_pred)\n",
    "# cce = tf.keras.losses.CategoricalCrossentropy()\n",
    "# print(f\"Total Loss Computed : {cce(oos_y, oos_pred).numpy()}\")\n",
    "score = metrics.accuracy_score(oos_y, oos_pred)\n",
    "print(f\"Total loss computed : {score}\")\n",
    "\n",
    "    "
   ]
  },
  {
   "cell_type": "code",
   "execution_count": 26,
   "metadata": {},
   "outputs": [],
   "source": [
    "# cross-validate \n",
    "kf = KFold(n_splits=4, shuffle=True, random_state=42)"
   ]
  },
  {
   "cell_type": "code",
   "execution_count": 27,
   "metadata": {},
   "outputs": [
    {
     "name": "stdout",
     "output_type": "stream",
     "text": [
      "Fold Number: 1\n",
      "Loss for Fold 1 : 0.9651474530831099\n",
      "Fold Number: 2\n",
      "Loss for Fold 2 : 0.9731903485254692\n",
      "Fold Number: 3\n",
      "Loss for Fold 3 : 0.956989247311828\n",
      "Fold Number: 4\n",
      "Loss for Fold 4 : 0.9650537634408602\n",
      "\n",
      "\n",
      "Total loss computed : 0.9650952030903168\n"
     ]
    }
   ],
   "source": [
    "fold = 0\n",
    "oos_y = list()\n",
    "oos_pred = list()\n",
    "all_scores = list()\n",
    "\n",
    "for train, test in kf.split(x_train):\n",
    "    \n",
    "    fold += 1\n",
    "    print(f\"Fold Number: {fold}\")\n",
    "#     print(train.shape)\n",
    "#     print(test)\n",
    "    x_train_fold = x_train[train]\n",
    "    y_train_fold = y_train[train]\n",
    "    x_test_fold = x_train[test]\n",
    "    y_test_fold = y_train[test]\n",
    "    \n",
    "    model = models.Sequential()\n",
    "    # , kernel_regularizer=regularizers.l2(0.001)\n",
    "    model.add(layers.Dense(5, activation='relu', input_shape=(2000,)))\n",
    "#     model.add(layers.Dense(6, activation='relu'))\n",
    "#     model.add(layers.Dense(12, activation='relu'))\n",
    "#     model.add(layers.Dropout(0.5))\n",
    "#     model.add(layers.Dense(6, activation='relu'))\n",
    "#     model.add(layers.Dropout(0.5))\n",
    "    model.add(layers.Dense(5, activation='softmax'))\n",
    "    \n",
    "    opt = tf.keras.optimizers.RMSprop(learning_rate=0.001)\n",
    "    model.compile(optimizer=opt,\n",
    "    loss='categorical_crossentropy',\n",
    "    metrics=['acc'])\n",
    "    \n",
    "    history = model.fit(\n",
    "    x_train_fold, \n",
    "    y_train_fold,\n",
    "    epochs=20,\n",
    "    batch_size=1,\n",
    "    verbose=0,\n",
    "    validation_data=(x_test_fold, y_test_fold)\n",
    "    )\n",
    "    \n",
    "    pred = model.predict(x_test_fold)\n",
    "    pred_comp = np.argmax(pred, axis=1)\n",
    "    \n",
    "#     oos_y.append(y_test_fold)\n",
    "#     oos_pred.append(pred)\n",
    "    \n",
    "    y_test_comp = np.argmax(y_test_fold, axis=1)\n",
    "    \n",
    "    oos_y.append(y_test_comp)\n",
    "    oos_pred.append(pred_comp)\n",
    "    \n",
    "    # Measuring this fold's RMSE\n",
    "    # cce = tf.keras.losses.CategoricalCrossentropy()\n",
    "    # print(f\"Loss for Fold {fold} : {cce(y_test_fold, pred).numpy()}\")\n",
    "    score = metrics.accuracy_score(y_test_comp, pred_comp)\n",
    "    print(f\"Loss for Fold {fold} : {score}\")\n",
    "    all_scores.append(score)\n",
    "    \n",
    "# Build the oos prediction list and calculate the error\n",
    "oos_y = np.concatenate(oos_y)\n",
    "oos_pred = np.concatenate(oos_pred)\n",
    "\n",
    "# cce = tf.keras.losses.CategoricalCrossentropy()\n",
    "# print(f\"Total Loss Computed : {cce(oos_y, oos_pred).numpy()}\")\n",
    "score = np.array(all_scores).mean()\n",
    "print(f\"\\n\\nTotal loss computed : {score}\")\n",
    "\n",
    "    "
   ]
  },
  {
   "cell_type": "code",
   "execution_count": 28,
   "metadata": {},
   "outputs": [
    {
     "data": {
      "text/plain": [
       "2.0"
      ]
     },
     "execution_count": 28,
     "metadata": {},
     "output_type": "execute_result"
    }
   ],
   "source": [
    "np.array([1, 2, 3]).mean()"
   ]
  },
  {
   "cell_type": "code",
   "execution_count": 29,
   "metadata": {},
   "outputs": [
    {
     "data": {
      "text/plain": [
       "0       1\n",
       "1       3\n",
       "2       4\n",
       "3       2\n",
       "4       0\n",
       "       ..\n",
       "1485    4\n",
       "1486    2\n",
       "1487    0\n",
       "1488    3\n",
       "1489    3\n",
       "Name: category, Length: 1490, dtype: int32"
      ]
     },
     "execution_count": 29,
     "metadata": {},
     "output_type": "execute_result"
    }
   ],
   "source": [
    "train_labels"
   ]
  },
  {
   "cell_type": "code",
   "execution_count": 30,
   "metadata": {},
   "outputs": [],
   "source": [
    "from keras import regularizers"
   ]
  },
  {
   "cell_type": "code",
   "execution_count": 31,
   "metadata": {},
   "outputs": [],
   "source": [
    "model = models.Sequential()\n",
    "# , kernel_regularizer=regularizers.l2(0.001)\n",
    "model.add(layers.Dense(4, activation='relu', input_shape=(2000,)))\n",
    "# model.add(layers.Dropout(0.4))\n",
    "model.add(layers.Dense(6, activation='relu'))\n",
    "model.add(layers.Dropout(0.3))\n",
    "model.add(layers.Dense(5, activation='softmax'))"
   ]
  },
  {
   "cell_type": "code",
   "execution_count": 32,
   "metadata": {},
   "outputs": [],
   "source": [
    "# model =models.Sequential([\n",
    "#     layers.Embedding()\n",
    "# ])"
   ]
  },
  {
   "cell_type": "code",
   "execution_count": 33,
   "metadata": {},
   "outputs": [],
   "source": [
    "opt = tf.keras.optimizers.RMSprop(learning_rate=0.001)\n",
    "model.compile(optimizer=opt,\n",
    "loss='categorical_crossentropy',\n",
    "metrics=['acc'])"
   ]
  },
  {
   "cell_type": "code",
   "execution_count": 34,
   "metadata": {},
   "outputs": [],
   "source": [
    "x_val = x_train[1200:]\n",
    "partial_x_train = x_train[:1200]\n",
    "\n",
    "y_val = y_train[1200:]\n",
    "partial_y_train = y_train[:1200]"
   ]
  },
  {
   "cell_type": "code",
   "execution_count": 35,
   "metadata": {},
   "outputs": [
    {
     "name": "stdout",
     "output_type": "stream",
     "text": [
      "Epoch 1/20\n",
      "1490/1490 [==============================] - 5s 3ms/step - loss: 1.3918 - acc: 0.3752 - val_loss: 0.9447 - val_acc: 0.7172\n",
      "Epoch 2/20\n",
      "1490/1490 [==============================] - 5s 3ms/step - loss: 0.8971 - acc: 0.6302 - val_loss: 0.5467 - val_acc: 0.8034\n",
      "Epoch 3/20\n",
      "1490/1490 [==============================] - 5s 4ms/step - loss: 0.6730 - acc: 0.7081 - val_loss: 0.4270 - val_acc: 0.8034\n",
      "Epoch 4/20\n",
      "1490/1490 [==============================] - 5s 4ms/step - loss: 0.6064 - acc: 0.7309 - val_loss: 0.3802 - val_acc: 0.8552\n",
      "Epoch 5/20\n",
      "1490/1490 [==============================] - 5s 3ms/step - loss: 0.5366 - acc: 0.7846 - val_loss: 0.2366 - val_acc: 0.9552\n",
      "Epoch 6/20\n",
      "1490/1490 [==============================] - 5s 4ms/step - loss: 0.4658 - acc: 0.8302 - val_loss: 0.2417 - val_acc: 0.9655\n",
      "Epoch 7/20\n",
      "1490/1490 [==============================] - 5s 3ms/step - loss: 0.4303 - acc: 0.8624 - val_loss: 0.1695 - val_acc: 0.9690\n",
      "Epoch 8/20\n",
      "1490/1490 [==============================] - 5s 3ms/step - loss: 0.3602 - acc: 0.8758 - val_loss: 0.1466 - val_acc: 0.9690\n",
      "Epoch 9/20\n",
      "1490/1490 [==============================] - 5s 3ms/step - loss: 0.3927 - acc: 0.8852 - val_loss: 0.1541 - val_acc: 0.9759\n",
      "Epoch 10/20\n",
      "1490/1490 [==============================] - 5s 3ms/step - loss: 0.3647 - acc: 0.8779 - val_loss: 0.1452 - val_acc: 0.9724\n",
      "Epoch 11/20\n",
      "1490/1490 [==============================] - 5s 3ms/step - loss: 0.3957 - acc: 0.8919 - val_loss: 0.1176 - val_acc: 0.9793\n",
      "Epoch 12/20\n",
      "1490/1490 [==============================] - 5s 3ms/step - loss: 0.3226 - acc: 0.8906 - val_loss: 0.1076 - val_acc: 0.9828\n",
      "Epoch 13/20\n",
      "1490/1490 [==============================] - 5s 3ms/step - loss: 0.3578 - acc: 0.8926 - val_loss: 0.1067 - val_acc: 0.9828\n",
      "Epoch 14/20\n",
      "1490/1490 [==============================] - 5s 3ms/step - loss: 0.3356 - acc: 0.9060 - val_loss: 0.0978 - val_acc: 0.9828\n",
      "Epoch 15/20\n",
      "1490/1490 [==============================] - 5s 3ms/step - loss: 0.3789 - acc: 0.9007 - val_loss: 0.0951 - val_acc: 0.9862\n",
      "Epoch 16/20\n",
      "1490/1490 [==============================] - 5s 3ms/step - loss: 0.4165 - acc: 0.8960 - val_loss: 0.1143 - val_acc: 0.9828\n",
      "Epoch 17/20\n",
      "1490/1490 [==============================] - 5s 3ms/step - loss: 0.3946 - acc: 0.9074 - val_loss: 0.1136 - val_acc: 0.9828\n",
      "Epoch 18/20\n",
      "1490/1490 [==============================] - 5s 3ms/step - loss: 0.3815 - acc: 0.8872 - val_loss: 0.1059 - val_acc: 0.9828\n",
      "Epoch 19/20\n",
      "1490/1490 [==============================] - 5s 3ms/step - loss: 0.4631 - acc: 0.8879 - val_loss: 0.0979 - val_acc: 0.9931\n",
      "Epoch 20/20\n",
      "1490/1490 [==============================] - 5s 3ms/step - loss: 0.4523 - acc: 0.8926 - val_loss: 0.1072 - val_acc: 0.9862\n"
     ]
    }
   ],
   "source": [
    "history = model.fit(\n",
    "    x_train, \n",
    "    y_train,\n",
    "    epochs=20,\n",
    "    batch_size=1,\n",
    "    validation_data=(x_val, y_val)\n",
    ")"
   ]
  },
  {
   "cell_type": "code",
   "execution_count": 36,
   "metadata": {},
   "outputs": [
    {
     "data": {
      "image/png": "[encoded data removed]",
      "text/plain": [
       "<Figure size 432x288 with 1 Axes>"
      ]
     },
     "metadata": {
      "needs_background": "light"
     },
     "output_type": "display_data"
    }
   ],
   "source": [
    "loss = history.history['loss']\n",
    "val_loss = history.history['loss']\n",
    "\n",
    "epochs = range(1, len(loss) + 1)\n",
    "\n",
    "plt.plot(epochs, loss, label='train_loss')\n",
    "# plt.plot(epochs, val_loss, label='val_loss')\n",
    "\n",
    "plt.title('Loss vs Epochs')\n",
    "plt.xlabel('Epochs')\n",
    "plt.ylabel('Loss')\n",
    "plt.legend()\n",
    "\n",
    "plt.show()"
   ]
  },
  {
   "cell_type": "code",
   "execution_count": 37,
   "metadata": {},
   "outputs": [
    {
     "data": {
      "image/png": "[encoded data removed]",
      "text/plain": [
       "<Figure size 432x288 with 1 Axes>"
      ]
     },
     "metadata": {
      "needs_background": "light"
     },
     "output_type": "display_data"
    }
   ],
   "source": [
    "plt.clf()\n",
    "acc = history.history['acc']\n",
    "val_acc = history.history['val_acc']\n",
    "plt.plot(epochs, acc, color='blue', label='train')\n",
    "plt.plot(epochs, val_acc, color='green', label='val')\n",
    "\n",
    "plt.title('Accuracy Graph')\n",
    "plt.xlabel('Epochs')\n",
    "plt.ylabel('Accuracy')\n",
    "\n",
    "plt.legend()\n",
    "plt.show()"
   ]
  },
  {
   "cell_type": "markdown",
   "metadata": {},
   "source": [
    "## Test Data"
   ]
  },
  {
   "cell_type": "code",
   "execution_count": 29,
   "metadata": {},
   "outputs": [],
   "source": [
    "test = pd.read_csv('test.csv')"
   ]
  },
  {
   "cell_type": "code",
   "execution_count": 30,
   "metadata": {},
   "outputs": [
    {
     "data": {
      "text/html": [
       "<div>\n",
       "<style scoped>\n",
       "    .dataframe tbody tr th:only-of-type {\n",
       "        vertical-align: middle;\n",
       "    }\n",
       "\n",
       "    .dataframe tbody tr th {\n",
       "        vertical-align: top;\n",
       "    }\n",
       "\n",
       "    .dataframe thead th {\n",
       "        text-align: right;\n",
       "    }\n",
       "</style>\n",
       "<table border=\"1\" class=\"dataframe\">\n",
       "  <thead>\n",
       "    <tr style=\"text-align: right;\">\n",
       "      <th></th>\n",
       "      <th>article_id</th>\n",
       "      <th>text</th>\n",
       "    </tr>\n",
       "  </thead>\n",
       "  <tbody>\n",
       "    <tr>\n",
       "      <th>0</th>\n",
       "      <td>1018</td>\n",
       "      <td>qpr keeper day heads for preston queens park r...</td>\n",
       "    </tr>\n",
       "    <tr>\n",
       "      <th>1</th>\n",
       "      <td>1319</td>\n",
       "      <td>software watching while you work software that...</td>\n",
       "    </tr>\n",
       "    <tr>\n",
       "      <th>2</th>\n",
       "      <td>1138</td>\n",
       "      <td>d arcy injury adds to ireland woe gordon d arc...</td>\n",
       "    </tr>\n",
       "    <tr>\n",
       "      <th>3</th>\n",
       "      <td>459</td>\n",
       "      <td>india s reliance family feud heats up the ongo...</td>\n",
       "    </tr>\n",
       "    <tr>\n",
       "      <th>4</th>\n",
       "      <td>1020</td>\n",
       "      <td>boro suffer morrison injury blow middlesbrough...</td>\n",
       "    </tr>\n",
       "  </tbody>\n",
       "</table>\n",
       "</div>"
      ],
      "text/plain": [
       "   article_id                                               text\n",
       "0        1018  qpr keeper day heads for preston queens park r...\n",
       "1        1319  software watching while you work software that...\n",
       "2        1138  d arcy injury adds to ireland woe gordon d arc...\n",
       "3         459  india s reliance family feud heats up the ongo...\n",
       "4        1020  boro suffer morrison injury blow middlesbrough..."
      ]
     },
     "execution_count": 30,
     "metadata": {},
     "output_type": "execute_result"
    }
   ],
   "source": [
    "test.head()"
   ]
  },
  {
   "cell_type": "code",
   "execution_count": 31,
   "metadata": {},
   "outputs": [],
   "source": [
    "article_id_test = test['article_id']"
   ]
  },
  {
   "cell_type": "code",
   "execution_count": 32,
   "metadata": {},
   "outputs": [],
   "source": [
    "test_df = clean_data(test)"
   ]
  },
  {
   "cell_type": "code",
   "execution_count": 33,
   "metadata": {},
   "outputs": [],
   "source": [
    "# only considering the most common 1000 words\n",
    "# TODO: tune parameter if required\n",
    "\n",
    "tokenizer = Tokenizer(num_words=2000)\n",
    "\n",
    "# builds the word index\n",
    "tokenizer.fit_on_texts(list(test_df['text']))\n",
    "\n",
    "# the fitted tokenizer now converts the text to integer sequences\n",
    "test_dataset = tokenizer.texts_to_sequences(list(test_df['text']))"
   ]
  },
  {
   "cell_type": "code",
   "execution_count": 34,
   "metadata": {},
   "outputs": [],
   "source": [
    "x_test = vectorize_sequences(test_dataset)"
   ]
  },
  {
   "cell_type": "code",
   "execution_count": 35,
   "metadata": {},
   "outputs": [],
   "source": [
    "predictions = model.predict(x_test)"
   ]
  },
  {
   "cell_type": "code",
   "execution_count": 36,
   "metadata": {},
   "outputs": [
    {
     "data": {
      "text/plain": [
       "735"
      ]
     },
     "execution_count": 36,
     "metadata": {},
     "output_type": "execute_result"
    }
   ],
   "source": [
    "len(predictions)"
   ]
  },
  {
   "cell_type": "code",
   "execution_count": 37,
   "metadata": {},
   "outputs": [],
   "source": [
    "prediction_copy = predictions.copy()"
   ]
  },
  {
   "cell_type": "code",
   "execution_count": 38,
   "metadata": {},
   "outputs": [],
   "source": [
    "prediction_copy = np.argmax(prediction_copy, axis=1)"
   ]
  },
  {
   "cell_type": "code",
   "execution_count": 39,
   "metadata": {},
   "outputs": [],
   "source": [
    "# cat_map = {0: 'business', 1: 'entertainment', 2:'politics', 3:'sport', 4:'tech'}"
   ]
  },
  {
   "cell_type": "code",
   "execution_count": 40,
   "metadata": {},
   "outputs": [],
   "source": [
    "category_number = [np.argmax(x) for x in predictions]"
   ]
  },
  {
   "cell_type": "code",
   "execution_count": 41,
   "metadata": {},
   "outputs": [],
   "source": [
    "names = label_encoder.inverse_transform(category_number)"
   ]
  },
  {
   "cell_type": "code",
   "execution_count": 46,
   "metadata": {},
   "outputs": [
    {
     "data": {
      "text/plain": [
       "array(['business', 'entertainment', 'politics', 'sport', 'tech'],\n",
       "      dtype=object)"
      ]
     },
     "execution_count": 46,
     "metadata": {},
     "output_type": "execute_result"
    }
   ],
   "source": [
    "label_encoder.classes_"
   ]
  },
  {
   "cell_type": "code",
   "execution_count": 44,
   "metadata": {},
   "outputs": [
    {
     "data": {
      "text/plain": [
       "array(['business', 'business', 'politics', 'business', 'business',\n",
       "       'politics', 'business', 'politics', 'business', 'business',\n",
       "       'sport', 'entertainment', 'politics', 'business', 'politics',\n",
       "       'politics', 'politics', 'entertainment', 'politics',\n",
       "       'entertainment', 'business', 'business', 'business', 'business',\n",
       "       'business', 'politics', 'business', 'politics', 'tech',\n",
       "       'entertainment', 'business', 'business', 'business',\n",
       "       'entertainment', 'tech', 'business', 'business', 'business',\n",
       "       'business', 'politics', 'business', 'business', 'tech', 'business',\n",
       "       'entertainment', 'entertainment', 'entertainment', 'politics',\n",
       "       'business', 'entertainment', 'entertainment', 'business',\n",
       "       'business', 'tech', 'politics', 'business', 'business', 'business',\n",
       "       'business', 'business', 'business', 'entertainment', 'business',\n",
       "       'business', 'business', 'business', 'entertainment',\n",
       "       'entertainment', 'entertainment', 'entertainment', 'business',\n",
       "       'business', 'entertainment', 'business', 'business',\n",
       "       'entertainment', 'business', 'entertainment', 'politics',\n",
       "       'entertainment', 'business', 'entertainment', 'business',\n",
       "       'business', 'entertainment', 'business', 'business', 'politics',\n",
       "       'politics', 'politics', 'entertainment', 'entertainment',\n",
       "       'politics', 'politics', 'business', 'business', 'business', 'tech',\n",
       "       'business', 'business', 'entertainment', 'business',\n",
       "       'entertainment', 'business', 'business', 'politics', 'business',\n",
       "       'business', 'business', 'business', 'entertainment', 'business',\n",
       "       'business', 'business', 'politics', 'business', 'business',\n",
       "       'entertainment', 'business', 'entertainment', 'business',\n",
       "       'entertainment', 'business', 'entertainment', 'entertainment',\n",
       "       'tech', 'business', 'business', 'entertainment', 'business',\n",
       "       'politics', 'business', 'business', 'business', 'business',\n",
       "       'business', 'politics', 'business', 'politics', 'business',\n",
       "       'business', 'sport', 'business', 'entertainment', 'business',\n",
       "       'business', 'business', 'entertainment', 'entertainment',\n",
       "       'business', 'entertainment', 'entertainment', 'politics',\n",
       "       'business', 'business', 'politics', 'politics', 'politics',\n",
       "       'business', 'business', 'business', 'business', 'entertainment',\n",
       "       'business', 'politics', 'business', 'entertainment', 'politics',\n",
       "       'business', 'politics', 'entertainment', 'entertainment',\n",
       "       'business', 'business', 'business', 'business', 'business',\n",
       "       'politics', 'sport', 'entertainment', 'business', 'politics',\n",
       "       'entertainment', 'entertainment', 'tech', 'entertainment',\n",
       "       'politics', 'politics', 'business', 'entertainment', 'politics',\n",
       "       'business', 'entertainment', 'business', 'business', 'business',\n",
       "       'business', 'business', 'business', 'business', 'business',\n",
       "       'business', 'business', 'business', 'tech', 'business', 'business',\n",
       "       'business', 'entertainment', 'business', 'business',\n",
       "       'entertainment', 'business', 'business', 'business', 'business',\n",
       "       'entertainment', 'business', 'business', 'politics', 'politics',\n",
       "       'entertainment', 'business', 'business', 'entertainment',\n",
       "       'entertainment', 'entertainment', 'business', 'business',\n",
       "       'business', 'tech', 'business', 'business', 'business',\n",
       "       'entertainment', 'entertainment', 'entertainment', 'entertainment',\n",
       "       'business', 'business', 'politics', 'business', 'business',\n",
       "       'business', 'entertainment', 'entertainment', 'politics',\n",
       "       'politics', 'politics', 'business', 'sport', 'tech', 'business',\n",
       "       'business', 'business', 'entertainment', 'business', 'business',\n",
       "       'business', 'business', 'business', 'entertainment', 'business',\n",
       "       'business', 'business', 'business', 'politics', 'entertainment',\n",
       "       'entertainment', 'entertainment', 'business', 'entertainment',\n",
       "       'business', 'business', 'business', 'entertainment', 'business',\n",
       "       'business', 'politics', 'entertainment', 'tech', 'tech',\n",
       "       'entertainment', 'entertainment', 'business', 'business',\n",
       "       'business', 'entertainment', 'entertainment', 'politics',\n",
       "       'entertainment', 'entertainment', 'business', 'business',\n",
       "       'entertainment', 'entertainment', 'business', 'business', 'tech',\n",
       "       'entertainment', 'business', 'business', 'business', 'politics',\n",
       "       'business', 'business', 'business', 'business', 'entertainment',\n",
       "       'business', 'entertainment', 'business', 'politics', 'business',\n",
       "       'business', 'business', 'entertainment', 'entertainment',\n",
       "       'business', 'entertainment', 'business', 'politics', 'business',\n",
       "       'business', 'business', 'business', 'business', 'business',\n",
       "       'business', 'business', 'business', 'business', 'politics',\n",
       "       'entertainment', 'business', 'business', 'business', 'business',\n",
       "       'entertainment', 'business', 'politics', 'business', 'tech',\n",
       "       'business', 'business', 'business', 'entertainment', 'business',\n",
       "       'politics', 'business', 'entertainment', 'business', 'business',\n",
       "       'business', 'entertainment', 'business', 'entertainment',\n",
       "       'entertainment', 'entertainment', 'tech', 'business', 'business',\n",
       "       'entertainment', 'entertainment', 'entertainment', 'entertainment',\n",
       "       'entertainment', 'business', 'business', 'business', 'business',\n",
       "       'entertainment', 'business', 'business', 'tech', 'business',\n",
       "       'business', 'business', 'entertainment', 'business', 'business',\n",
       "       'entertainment', 'politics', 'entertainment', 'business',\n",
       "       'business', 'business', 'entertainment', 'tech', 'business',\n",
       "       'business', 'entertainment', 'politics', 'politics',\n",
       "       'entertainment', 'politics', 'business', 'entertainment',\n",
       "       'business', 'business', 'entertainment', 'business', 'business',\n",
       "       'politics', 'business', 'business', 'business', 'business',\n",
       "       'politics', 'business', 'business', 'entertainment', 'tech',\n",
       "       'politics', 'politics', 'entertainment', 'entertainment',\n",
       "       'business', 'business', 'business', 'business', 'business',\n",
       "       'politics', 'business', 'politics', 'sport', 'business',\n",
       "       'entertainment', 'business', 'business', 'business', 'business',\n",
       "       'entertainment', 'entertainment', 'business', 'business',\n",
       "       'entertainment', 'entertainment', 'entertainment', 'business',\n",
       "       'entertainment', 'sport', 'business', 'entertainment',\n",
       "       'entertainment', 'politics', 'entertainment', 'entertainment',\n",
       "       'politics', 'business', 'business', 'politics', 'tech',\n",
       "       'entertainment', 'business', 'business', 'business', 'business',\n",
       "       'business', 'business', 'business', 'business', 'business',\n",
       "       'entertainment', 'entertainment', 'entertainment', 'politics',\n",
       "       'politics', 'business', 'business', 'business', 'business',\n",
       "       'entertainment', 'business', 'politics', 'sport', 'entertainment',\n",
       "       'business', 'politics', 'business', 'business', 'politics',\n",
       "       'business', 'business', 'business', 'business', 'politics',\n",
       "       'business', 'politics', 'business', 'business', 'business',\n",
       "       'business', 'business', 'tech', 'entertainment', 'politics',\n",
       "       'business', 'business', 'business', 'business', 'tech', 'politics',\n",
       "       'business', 'business', 'entertainment', 'business', 'business',\n",
       "       'entertainment', 'entertainment', 'business', 'business',\n",
       "       'business', 'business', 'entertainment', 'business', 'politics',\n",
       "       'tech', 'entertainment', 'business', 'business', 'politics',\n",
       "       'entertainment', 'entertainment', 'business', 'entertainment',\n",
       "       'business', 'politics', 'business', 'entertainment', 'politics',\n",
       "       'entertainment', 'entertainment', 'entertainment', 'entertainment',\n",
       "       'business', 'business', 'business', 'tech', 'entertainment',\n",
       "       'business', 'entertainment', 'business', 'business', 'business',\n",
       "       'business', 'entertainment', 'entertainment', 'business',\n",
       "       'politics', 'politics', 'business', 'business', 'business',\n",
       "       'business', 'politics', 'business', 'politics', 'business',\n",
       "       'business', 'business', 'business', 'business', 'business',\n",
       "       'politics', 'business', 'business', 'entertainment', 'business',\n",
       "       'business', 'entertainment', 'business', 'business', 'tech',\n",
       "       'business', 'business', 'business', 'entertainment', 'business',\n",
       "       'business', 'business', 'business', 'entertainment', 'sport',\n",
       "       'business', 'entertainment', 'business', 'entertainment',\n",
       "       'business', 'entertainment', 'business', 'entertainment',\n",
       "       'business', 'entertainment', 'business', 'entertainment',\n",
       "       'business', 'entertainment', 'business', 'politics', 'business',\n",
       "       'business', 'business', 'politics', 'entertainment', 'business',\n",
       "       'business', 'business', 'politics', 'business', 'tech', 'business',\n",
       "       'business', 'entertainment', 'sport', 'business', 'entertainment',\n",
       "       'entertainment', 'business', 'business', 'business',\n",
       "       'entertainment', 'business', 'entertainment', 'business',\n",
       "       'politics', 'tech', 'politics', 'business', 'entertainment',\n",
       "       'business', 'politics', 'business', 'business', 'business',\n",
       "       'business', 'business', 'business', 'politics', 'entertainment',\n",
       "       'entertainment', 'business', 'entertainment', 'business',\n",
       "       'business', 'politics', 'business', 'entertainment', 'business',\n",
       "       'entertainment', 'business', 'entertainment', 'entertainment',\n",
       "       'business', 'politics', 'business', 'business', 'business',\n",
       "       'entertainment', 'business', 'business', 'business', 'business',\n",
       "       'tech', 'business', 'business', 'business', 'politics', 'business',\n",
       "       'business', 'entertainment', 'business', 'entertainment',\n",
       "       'business', 'business', 'business', 'business', 'business',\n",
       "       'business', 'entertainment', 'business', 'business',\n",
       "       'entertainment', 'sport', 'politics', 'entertainment',\n",
       "       'entertainment', 'business', 'politics', 'entertainment',\n",
       "       'business', 'business', 'business', 'business', 'business',\n",
       "       'business', 'entertainment', 'entertainment', 'tech', 'business',\n",
       "       'business', 'business', 'politics', 'entertainment',\n",
       "       'entertainment', 'entertainment', 'business', 'business',\n",
       "       'business', 'business', 'entertainment', 'business', 'business',\n",
       "       'business', 'business', 'entertainment', 'business', 'business',\n",
       "       'entertainment', 'business', 'business', 'business', 'business',\n",
       "       'business', 'tech', 'business', 'sport', 'business',\n",
       "       'entertainment', 'business', 'business', 'entertainment',\n",
       "       'entertainment', 'politics', 'business'], dtype=object)"
      ]
     },
     "execution_count": 44,
     "metadata": {},
     "output_type": "execute_result"
    }
   ],
   "source": [
    "names"
   ]
  },
  {
   "cell_type": "code",
   "execution_count": 42,
   "metadata": {},
   "outputs": [],
   "source": [
    "preds = pd.DataFrame({'ArticleId': article_id_test, 'Category': names})"
   ]
  },
  {
   "cell_type": "code",
   "execution_count": 43,
   "metadata": {},
   "outputs": [
    {
     "data": {
      "text/plain": [
       "business         413\n",
       "entertainment    186\n",
       "politics          96\n",
       "tech              29\n",
       "sport             11\n",
       "Name: Category, dtype: int64"
      ]
     },
     "execution_count": 43,
     "metadata": {},
     "output_type": "execute_result"
    }
   ],
   "source": [
    "preds.Category.value_counts()"
   ]
  },
  {
   "cell_type": "code",
   "execution_count": 167,
   "metadata": {},
   "outputs": [
    {
     "data": {
      "text/html": [
       "<div>\n",
       "<style scoped>\n",
       "    .dataframe tbody tr th:only-of-type {\n",
       "        vertical-align: middle;\n",
       "    }\n",
       "\n",
       "    .dataframe tbody tr th {\n",
       "        vertical-align: top;\n",
       "    }\n",
       "\n",
       "    .dataframe thead th {\n",
       "        text-align: right;\n",
       "    }\n",
       "</style>\n",
       "<table border=\"1\" class=\"dataframe\">\n",
       "  <thead>\n",
       "    <tr style=\"text-align: right;\">\n",
       "      <th></th>\n",
       "      <th>ArticleId</th>\n",
       "      <th>Category</th>\n",
       "    </tr>\n",
       "  </thead>\n",
       "  <tbody>\n",
       "    <tr>\n",
       "      <th>0</th>\n",
       "      <td>1018</td>\n",
       "      <td>business</td>\n",
       "    </tr>\n",
       "    <tr>\n",
       "      <th>1</th>\n",
       "      <td>1319</td>\n",
       "      <td>politics</td>\n",
       "    </tr>\n",
       "    <tr>\n",
       "      <th>2</th>\n",
       "      <td>1138</td>\n",
       "      <td>tech</td>\n",
       "    </tr>\n",
       "    <tr>\n",
       "      <th>3</th>\n",
       "      <td>459</td>\n",
       "      <td>business</td>\n",
       "    </tr>\n",
       "    <tr>\n",
       "      <th>4</th>\n",
       "      <td>1020</td>\n",
       "      <td>politics</td>\n",
       "    </tr>\n",
       "  </tbody>\n",
       "</table>\n",
       "</div>"
      ],
      "text/plain": [
       "   ArticleId  Category\n",
       "0       1018  business\n",
       "1       1319  politics\n",
       "2       1138      tech\n",
       "3        459  business\n",
       "4       1020  politics"
      ]
     },
     "execution_count": 167,
     "metadata": {},
     "output_type": "execute_result"
    }
   ],
   "source": [
    "preds.head()"
   ]
  },
  {
   "cell_type": "code",
   "execution_count": 168,
   "metadata": {},
   "outputs": [],
   "source": [
    "preds.to_csv('submission_news.csv', index=False)"
   ]
  },
  {
   "cell_type": "code",
   "execution_count": null,
   "metadata": {},
   "outputs": [],
   "source": []
  },
  {
   "cell_type": "markdown",
   "metadata": {},
   "source": [
    "## Saving The Model"
   ]
  },
  {
   "cell_type": "code",
   "execution_count": null,
   "metadata": {},
   "outputs": [],
   "source": [
    "model_version = \"0001\"\n",
    "model_name = \"news_classification_model\"\n",
    "model_path = os.path.join(model_name, model_version)\n",
    "model_path"
   ]
  },
  {
   "cell_type": "code",
   "execution_count": null,
   "metadata": {},
   "outputs": [],
   "source": [
    "tf.saved_model.save(model, model_path)"
   ]
  },
  {
   "cell_type": "code",
   "execution_count": null,
   "metadata": {},
   "outputs": [],
   "source": []
  },
  {
   "cell_type": "markdown",
   "metadata": {},
   "source": [
    "# LAB EXPERIMENTS!! Do Not Enter"
   ]
  },
  {
   "cell_type": "code",
   "execution_count": null,
   "metadata": {},
   "outputs": [],
   "source": [
    "tf.config.list_physical_devices('GPU')"
   ]
  },
  {
   "cell_type": "code",
   "execution_count": null,
   "metadata": {},
   "outputs": [],
   "source": [
    "preds['Category'].value_counts()"
   ]
  },
  {
   "cell_type": "code",
   "execution_count": null,
   "metadata": {},
   "outputs": [],
   "source": [
    "seq_lb = [[1, 2, 3],\n",
    "         [2, 3],\n",
    "         [1, 3]]"
   ]
  },
  {
   "cell_type": "code",
   "execution_count": null,
   "metadata": {},
   "outputs": [],
   "source": [
    "dimension=5\n",
    "results = np.zeros((len(seq_lb), dimension))\n",
    "results"
   ]
  },
  {
   "cell_type": "code",
   "execution_count": null,
   "metadata": {},
   "outputs": [],
   "source": [
    "for i, seq in enumerate(seq_lb):\n",
    "    results[i, seq] = 1\n",
    "    print(results[i, seq] )\n",
    "    print(\"=\")"
   ]
  },
  {
   "cell_type": "code",
   "execution_count": null,
   "metadata": {},
   "outputs": [],
   "source": [
    "results"
   ]
  },
  {
   "cell_type": "code",
   "execution_count": null,
   "metadata": {},
   "outputs": [],
   "source": [
    "from keras.datasets import imdb\n",
    "(train_data, train_label), (test_data, test_label) = imdb.load_data(num_words=10000)"
   ]
  },
  {
   "cell_type": "code",
   "execution_count": null,
   "metadata": {},
   "outputs": [],
   "source": [
    "x_train = vectorize_sequences(train_data, 10000)\n",
    "x_test = vectorize_sequences(test_data, 10000)\n",
    "y_train = np.asarray(train_label).astype('float32')\n",
    "y_test = np.asarray(test_label).astype('float32')"
   ]
  },
  {
   "cell_type": "code",
   "execution_count": null,
   "metadata": {},
   "outputs": [],
   "source": [
    "model = models.Sequential()\n",
    "model.add(layers.Dense(16, activation='relu', input_shape=(10000,)))\n",
    "model.add(layers.Dense(16, activation='relu'))\n",
    "model.add(layers.Dense(1, activation='sigmoid'))"
   ]
  },
  {
   "cell_type": "code",
   "execution_count": null,
   "metadata": {},
   "outputs": [],
   "source": [
    "opt = tf.keras.optimizers.RMSprop(learning_rate=0.001)\n",
    "model.compile(optimizer=opt,\n",
    "loss='categorical_crossentropy',\n",
    "metrics=['acc'])"
   ]
  },
  {
   "cell_type": "code",
   "execution_count": null,
   "metadata": {},
   "outputs": [],
   "source": [
    "x_val = x_train[10000:]\n",
    "partial_x_train = x_train[:10000]\n",
    "\n",
    "y_val = train_label[10000:]\n",
    "partial_y_train = train_label[:10000]"
   ]
  },
  {
   "cell_type": "code",
   "execution_count": null,
   "metadata": {},
   "outputs": [],
   "source": [
    "history = model.fit(\n",
    "    x_train, \n",
    "    y_train,\n",
    "    epochs=20,\n",
    "    batch_size=512,\n",
    "    validation_data=(x_val, y_val)\n",
    ")"
   ]
  },
  {
   "cell_type": "code",
   "execution_count": null,
   "metadata": {},
   "outputs": [],
   "source": []
  }
 ],
 "metadata": {
  "kernelspec": {
   "display_name": "Python 3",
   "language": "python",
   "name": "python3"
  },
  "language_info": {
   "codemirror_mode": {
    "name": "ipython",
    "version": 3
   },
   "file_extension": ".py",
   "mimetype": "text/x-python",
   "name": "python",
   "nbconvert_exporter": "python",
   "pygments_lexer": "ipython3",
   "version": "3.8.5"
  }
 },
 "nbformat": 4,
 "nbformat_minor": 5
}

{
 "cells": [
  {
   "cell_type": "code",
   "execution_count": 1,
   "id": "c0633093",
   "metadata": {},
   "outputs": [],
   "source": [
    "import numpy as np\n",
    "import pandas as pd\n",
    "import matplotlib.pyplot as plt\n",
    "import tensorflow as tf\n",
    "from keras.preprocessing.text import Tokenizer\n",
    "from keras import models, layers\n",
    "from keras.utils.np_utils import to_categorical\n",
    "from sklearn import preprocessing\n",
    "import os\n",
    "import logging\n",
    "from sklearn.model_selection import KFold"
   ]
  },
  {
   "cell_type": "code",
   "execution_count": 2,
   "id": "e25c0c2f",
   "metadata": {},
   "outputs": [],
   "source": [
    "logging.basicConfig(filename='logs.txt',\n",
    "                   filemode='a',\n",
    "                   format='%(asctime)s %(levelname)s-%(message)s',\n",
    "                   datefmt='%Y-%m-%d %H:%M:%S',\n",
    "                   force=True,\n",
    "                    level=logging.INFO\n",
    "                   )"
   ]
  },
  {
   "cell_type": "code",
   "execution_count": 3,
   "id": "8ab11913",
   "metadata": {},
   "outputs": [],
   "source": [
    "from python_project import connect_database"
   ]
  },
  {
   "cell_type": "code",
   "execution_count": 4,
   "id": "3158b8e3",
   "metadata": {},
   "outputs": [
    {
     "name": "stdout",
     "output_type": "stream",
     "text": [
      "Connection Successful:  4.0.0.6816\n"
     ]
    }
   ],
   "source": [
    "try_again = True\n",
    "while try_again:\n",
    "    try:\n",
    "        session = connect_database.connect()\n",
    "        try_again = False\n",
    "    except:\n",
    "        logging.error(\"Connection attempt failed! Trying again\")\n",
    "        try_again = True"
   ]
  },
  {
   "cell_type": "markdown",
   "id": "8bf5d9a3",
   "metadata": {},
   "source": [
    "## Cleaning Data Function"
   ]
  },
  {
   "cell_type": "code",
   "execution_count": 5,
   "id": "723ff212",
   "metadata": {},
   "outputs": [],
   "source": [
    "def clean_data(dataframe):\n",
    "    try:\n",
    "        dataframe['text'] = dataframe['text'].apply(lambda x: x.replace('-', ' '))\n",
    "    except: \n",
    "        logging.error(\"Dataframe has 'text' column missing.\")\n",
    "    return dataframe"
   ]
  },
  {
   "cell_type": "markdown",
   "id": "d8cd18d0",
   "metadata": {},
   "source": [
    "## Getting Data From Database"
   ]
  },
  {
   "cell_type": "code",
   "execution_count": 6,
   "id": "8e096a26",
   "metadata": {},
   "outputs": [],
   "source": [
    "from python_project import database_interaction as db"
   ]
  },
  {
   "cell_type": "code",
   "execution_count": 7,
   "id": "87f4d3fe",
   "metadata": {},
   "outputs": [
    {
     "name": "stdout",
     "output_type": "stream",
     "text": [
      "Connection Successful:  4.0.0.6816\n"
     ]
    }
   ],
   "source": [
    "df = db.get_dataframe()"
   ]
  },
  {
   "cell_type": "code",
   "execution_count": 8,
   "id": "0cb5f229",
   "metadata": {},
   "outputs": [
    {
     "data": {
      "text/plain": [
       "array(['entertainment', 'sport', 'tech', 'politics', 'business'],\n",
       "      dtype=object)"
      ]
     },
     "execution_count": 8,
     "metadata": {},
     "output_type": "execute_result"
    }
   ],
   "source": [
    "# categories in the dataset\n",
    "df['category'].unique()"
   ]
  },
  {
   "cell_type": "code",
   "execution_count": 9,
   "id": "9e5591fd",
   "metadata": {},
   "outputs": [
    {
     "data": {
      "text/html": [
       "<div>\n",
       "<style scoped>\n",
       "    .dataframe tbody tr th:only-of-type {\n",
       "        vertical-align: middle;\n",
       "    }\n",
       "\n",
       "    .dataframe tbody tr th {\n",
       "        vertical-align: top;\n",
       "    }\n",
       "\n",
       "    .dataframe thead th {\n",
       "        text-align: right;\n",
       "    }\n",
       "</style>\n",
       "<table border=\"1\" class=\"dataframe\">\n",
       "  <thead>\n",
       "    <tr style=\"text-align: right;\">\n",
       "      <th></th>\n",
       "      <th>article_id</th>\n",
       "      <th>news</th>\n",
       "      <th>category</th>\n",
       "    </tr>\n",
       "  </thead>\n",
       "  <tbody>\n",
       "    <tr>\n",
       "      <th>0</th>\n",
       "      <td>1584</td>\n",
       "      <td>alicia keys to open us super bowl r&amp;b star ali...</td>\n",
       "      <td>entertainment</td>\n",
       "    </tr>\n",
       "    <tr>\n",
       "      <th>1</th>\n",
       "      <td>1863</td>\n",
       "      <td>johnson uncertain about euro bid jade johnson ...</td>\n",
       "      <td>sport</td>\n",
       "    </tr>\n",
       "    <tr>\n",
       "      <th>2</th>\n",
       "      <td>1765</td>\n",
       "      <td>nintendo ds aims to touch gamers the mobile ga...</td>\n",
       "      <td>tech</td>\n",
       "    </tr>\n",
       "    <tr>\n",
       "      <th>3</th>\n",
       "      <td>2062</td>\n",
       "      <td>turkey deal  to help world peace  a deal bring...</td>\n",
       "      <td>politics</td>\n",
       "    </tr>\n",
       "    <tr>\n",
       "      <th>4</th>\n",
       "      <td>1199</td>\n",
       "      <td>sales  fail to boost high street  the january ...</td>\n",
       "      <td>business</td>\n",
       "    </tr>\n",
       "  </tbody>\n",
       "</table>\n",
       "</div>"
      ],
      "text/plain": [
       "   article_id                                               news  \\\n",
       "0        1584  alicia keys to open us super bowl r&b star ali...   \n",
       "1        1863  johnson uncertain about euro bid jade johnson ...   \n",
       "2        1765  nintendo ds aims to touch gamers the mobile ga...   \n",
       "3        2062  turkey deal  to help world peace  a deal bring...   \n",
       "4        1199  sales  fail to boost high street  the january ...   \n",
       "\n",
       "        category  \n",
       "0  entertainment  \n",
       "1          sport  \n",
       "2           tech  \n",
       "3       politics  \n",
       "4       business  "
      ]
     },
     "execution_count": 9,
     "metadata": {},
     "output_type": "execute_result"
    }
   ],
   "source": [
    "df.head(5)"
   ]
  },
  {
   "cell_type": "markdown",
   "id": "e87e2b8f",
   "metadata": {},
   "source": [
    "## Model"
   ]
  },
  {
   "cell_type": "code",
   "execution_count": 10,
   "id": "fb1db799",
   "metadata": {},
   "outputs": [],
   "source": [
    "# only considering the most common 1000 words\n",
    "# TODO: tune parameter if required\n",
    "\n",
    "tokenizer = Tokenizer(num_words=2000)\n",
    "\n",
    "# builds the word index\n",
    "tokenizer.fit_on_texts(list(df['news']))\n",
    "\n",
    "# the fitted tokenizer now converts the text to integer sequences\n",
    "train_dataset = tokenizer.texts_to_sequences(list(df['news']))\n",
    "\n",
    "logging.info(\"The dataset is retrieved from the database and is preprocessed\")\n",
    "# train_dataset = tf.keras.preprocessing.sequence.pad_sequences(sequences, padding='pre')"
   ]
  },
  {
   "cell_type": "code",
   "execution_count": 11,
   "id": "769eab1a",
   "metadata": {},
   "outputs": [],
   "source": [
    "def vectorize_sequences(sequences, dimension=2000):\n",
    "    results = np.zeros((len(sequences), dimension))\n",
    "    for i, sequence in enumerate(sequences):\n",
    "        results[i, sequence] = 1.\n",
    "    return results\n"
   ]
  },
  {
   "cell_type": "code",
   "execution_count": 12,
   "id": "80e63bab",
   "metadata": {},
   "outputs": [],
   "source": [
    "x_train = vectorize_sequences(train_dataset, dimension=2000)"
   ]
  },
  {
   "cell_type": "markdown",
   "id": "350d708f",
   "metadata": {},
   "source": [
    "## Preparing Output Labels"
   ]
  },
  {
   "cell_type": "code",
   "execution_count": 13,
   "id": "91ea261e",
   "metadata": {},
   "outputs": [],
   "source": [
    "train_labels = list(df['category'])"
   ]
  },
  {
   "cell_type": "code",
   "execution_count": 14,
   "id": "24ae2a93",
   "metadata": {},
   "outputs": [],
   "source": [
    "# label_encoder object knows how to understand word labels.\n",
    "label_encoder = preprocessing.LabelEncoder()"
   ]
  },
  {
   "cell_type": "code",
   "execution_count": 15,
   "id": "a1c22454",
   "metadata": {},
   "outputs": [],
   "source": [
    "# Encode labels in column 'species'.\n",
    "df['category']= label_encoder.fit_transform(df['category'])"
   ]
  },
  {
   "cell_type": "code",
   "execution_count": 16,
   "id": "c7546d3c",
   "metadata": {},
   "outputs": [
    {
     "data": {
      "text/plain": [
       "array(['business', 'entertainment', 'politics', 'sport', 'tech'],\n",
       "      dtype=object)"
      ]
     },
     "execution_count": 16,
     "metadata": {},
     "output_type": "execute_result"
    }
   ],
   "source": [
    "label_encoder.classes_"
   ]
  },
  {
   "cell_type": "code",
   "execution_count": 17,
   "id": "b63d2457",
   "metadata": {},
   "outputs": [],
   "source": [
    "train_labels = df['category']"
   ]
  },
  {
   "cell_type": "code",
   "execution_count": 18,
   "id": "a38f8899",
   "metadata": {},
   "outputs": [
    {
     "data": {
      "text/plain": [
       "3    346\n",
       "0    336\n",
       "2    274\n",
       "1    273\n",
       "4    261\n",
       "Name: category, dtype: int64"
      ]
     },
     "execution_count": 18,
     "metadata": {},
     "output_type": "execute_result"
    }
   ],
   "source": [
    "train_labels.value_counts()"
   ]
  },
  {
   "cell_type": "code",
   "execution_count": 19,
   "id": "fddcb4ea",
   "metadata": {},
   "outputs": [],
   "source": [
    "y_train = to_categorical(train_labels)"
   ]
  },
  {
   "cell_type": "code",
   "execution_count": 20,
   "id": "3a2fafe1",
   "metadata": {},
   "outputs": [
    {
     "data": {
      "text/plain": [
       "array([0., 1., 0., 0., 0.], dtype=float32)"
      ]
     },
     "execution_count": 20,
     "metadata": {},
     "output_type": "execute_result"
    }
   ],
   "source": [
    "y_train[0]"
   ]
  },
  {
   "cell_type": "markdown",
   "id": "25837761",
   "metadata": {},
   "source": [
    "## Model"
   ]
  },
  {
   "cell_type": "code",
   "execution_count": 21,
   "id": "79d297a4",
   "metadata": {},
   "outputs": [],
   "source": [
    "from sklearn import metrics"
   ]
  },
  {
   "cell_type": "raw",
   "id": "8e2e8e19",
   "metadata": {},
   "source": [
    "fold = 0\n",
    "oos_y = list()\n",
    "oos_pred = list()\n",
    "\n",
    "for train, test in kf.split(x_train):\n",
    "    \n",
    "    fold += 1\n",
    "    print(f\"Fold Number: {fold}\")\n",
    "#     print(train.shape)\n",
    "#     print(test)\n",
    "    x_train_fold = x_train[train]\n",
    "    y_train_fold = y_train[train]\n",
    "    x_test_fold = x_train[test]\n",
    "    y_test_fold = y_train[test]\n",
    "    \n",
    "    model = models.Sequential()\n",
    "    # , kernel_regularizer=regularizers.l2(0.001)\n",
    "    model.add(layers.Dense(3, activation='relu', input_shape=(2000,)))\n",
    "    # model.add(layers.Dropout(0.4))\n",
    "    model.add(layers.Dense(6, activation='relu'))\n",
    "    model.add(layers.Dropout(0.3))\n",
    "    model.add(layers.Dense(5, activation='softmax'))\n",
    "    \n",
    "    opt = tf.keras.optimizers.Adam(learning_rate=0.001)\n",
    "    model.compile(optimizer=opt,\n",
    "    loss='categorical_crossentropy',\n",
    "    metrics=['acc'])\n",
    "    \n",
    "    history = model.fit(\n",
    "    x_train_fold, \n",
    "    y_train_fold,\n",
    "    epochs=20,\n",
    "    batch_size=1,\n",
    "    verbose=0,\n",
    "    validation_data=(x_test_fold, y_test_fold)\n",
    "    )\n",
    "    \n",
    "    pred = model.predict(x_test_fold)\n",
    "    \n",
    "    oos_y.append(y_test_fold)\n",
    "    oos_pred.append(pred)\n",
    "    \n",
    "    # Measuring this fold's RMSE\n",
    "    # cce = tf.keras.losses.CategoricalCrossentropy()\n",
    "    # print(f\"Loss for Fold {fold} : {cce(y_test_fold, pred).numpy()}\")\n",
    "    score = metrics.accuracy_score(oos_y, oos_pred)\n",
    "    print(f\"Loss for Fold {fold} : {score}\")\n",
    "    \n",
    "# Build the oos prediction list and calculate the error\n",
    "oos_y = np.concatenate(oos_y)\n",
    "oos_pred = np.concatenate(oos_pred)\n",
    "# cce = tf.keras.losses.CategoricalCrossentropy()\n",
    "# print(f\"Total Loss Computed : {cce(oos_y, oos_pred).numpy()}\")\n",
    "score = metrics.accuracy_score(oos_y, oos_pred)\n",
    "print(f\"Total loss computed : {score}\")\n",
    "\n",
    "    "
   ]
  },
  {
   "cell_type": "code",
   "execution_count": 78,
   "id": "2ca687d1",
   "metadata": {},
   "outputs": [],
   "source": [
    "# cross-validate \n",
    "kf = KFold(n_splits=6, shuffle=True, random_state=42)"
   ]
  },
  {
   "cell_type": "code",
   "execution_count": 151,
   "id": "5f1ce131",
   "metadata": {},
   "outputs": [
    {
     "name": "stdout",
     "output_type": "stream",
     "text": [
      "Fold Number: 1\n",
      "Loss for Fold 1 : 0.9678714859437751\n",
      "Fold Number: 2\n",
      "Loss for Fold 2 : 0.9156626506024096\n",
      "Fold Number: 3\n",
      "Loss for Fold 3 : 0.9758064516129032\n",
      "Fold Number: 4\n",
      "Loss for Fold 4 : 0.9354838709677419\n",
      "Fold Number: 5\n",
      "Loss for Fold 5 : 0.967741935483871\n",
      "Fold Number: 6\n",
      "Loss for Fold 6 : 0.9475806451612904\n",
      "\n",
      "\n",
      "Total loss computed : 0.9516911732953318\n"
     ]
    }
   ],
   "source": [
    "fold = 0\n",
    "oos_y = list()\n",
    "oos_pred = list()\n",
    "all_scores = list()\n",
    "\n",
    "for train, test in kf.split(x_train):\n",
    "    \n",
    "    fold += 1\n",
    "    print(f\"Fold Number: {fold}\")\n",
    "#     print(train.shape)\n",
    "#     print(test)\n",
    "    x_train_fold = x_train[train]\n",
    "    y_train_fold = y_train[train]\n",
    "    x_test_fold = x_train[test]\n",
    "    y_test_fold = y_train[test]\n",
    "    \n",
    "    model = models.Sequential()\n",
    "    # , kernel_regularizer=regularizers.l2(0.001)\n",
    "    model.add(layers.Dense(5, activation='relu', input_shape=(2000,)))\n",
    "#     model.add(layers.Dense(6, activation='relu'))\n",
    "#     model.add(layers.Dense(12, activation='relu'))\n",
    "#     model.add(layers.Dropout(0.5))\n",
    "#     model.add(layers.Dense(6, activation='relu'))\n",
    "#     model.add(layers.Dropout(0.5))\n",
    "    model.add(layers.Dense(5, activation='softmax'))\n",
    "    \n",
    "    opt = tf.keras.optimizers.RMSprop(learning_rate=0.001)\n",
    "    model.compile(optimizer=opt,\n",
    "    loss='categorical_crossentropy',\n",
    "    metrics=['acc'])\n",
    "    \n",
    "    history = model.fit(\n",
    "    x_train_fold, \n",
    "    y_train_fold,\n",
    "    epochs=20,\n",
    "    batch_size=1,\n",
    "    verbose=0,\n",
    "    validation_data=(x_test_fold, y_test_fold)\n",
    "    )\n",
    "    \n",
    "    pred = model.predict(x_test_fold)\n",
    "    pred_comp = np.argmax(pred, axis=1)\n",
    "    \n",
    "#     oos_y.append(y_test_fold)\n",
    "#     oos_pred.append(pred)\n",
    "    \n",
    "    y_test_comp = np.argmax(y_test_fold, axis=1)\n",
    "    \n",
    "    oos_y.append(y_test_comp)\n",
    "    oos_pred.append(pred_comp)\n",
    "    \n",
    "    # Measuring this fold's RMSE\n",
    "    # cce = tf.keras.losses.CategoricalCrossentropy()\n",
    "    # print(f\"Loss for Fold {fold} : {cce(y_test_fold, pred).numpy()}\")\n",
    "    score = metrics.accuracy_score(y_test_comp, pred_comp)\n",
    "    print(f\"Loss for Fold {fold} : {score}\")\n",
    "    all_scores.append(score)\n",
    "    \n",
    "# Build the oos prediction list and calculate the error\n",
    "oos_y = np.concatenate(oos_y)\n",
    "oos_pred = np.concatenate(oos_pred)\n",
    "\n",
    "# cce = tf.keras.losses.CategoricalCrossentropy()\n",
    "# print(f\"Total Loss Computed : {cce(oos_y, oos_pred).numpy()}\")\n",
    "score = np.array(all_scores).mean()\n",
    "print(f\"\\n\\nTotal loss computed : {score}\")\n",
    "\n",
    "    "
   ]
  },
  {
   "cell_type": "code",
   "execution_count": null,
   "id": "052ca06f",
   "metadata": {},
   "outputs": [],
   "source": [
    "np.array([1, 2, 3]).mean()"
   ]
  },
  {
   "cell_type": "code",
   "execution_count": 387,
   "id": "25fd5953",
   "metadata": {},
   "outputs": [
    {
     "data": {
      "text/plain": [
       "0       1\n",
       "1       3\n",
       "2       4\n",
       "3       2\n",
       "4       0\n",
       "       ..\n",
       "1485    4\n",
       "1486    2\n",
       "1487    0\n",
       "1488    3\n",
       "1489    3\n",
       "Name: category, Length: 1490, dtype: int64"
      ]
     },
     "execution_count": 387,
     "metadata": {},
     "output_type": "execute_result"
    }
   ],
   "source": [
    "train_labels"
   ]
  },
  {
   "cell_type": "code",
   "execution_count": 167,
   "id": "98073cc4",
   "metadata": {},
   "outputs": [],
   "source": [
    "from keras import regularizers"
   ]
  },
  {
   "cell_type": "code",
   "execution_count": 360,
   "id": "2cc28f7a",
   "metadata": {},
   "outputs": [],
   "source": [
    "model = models.Sequential()\n",
    "# , kernel_regularizer=regularizers.l2(0.001)\n",
    "model.add(layers.Dense(4, activation='relu', input_shape=(2000,)))\n",
    "# model.add(layers.Dropout(0.4))\n",
    "model.add(layers.Dense(6, activation='relu'))\n",
    "model.add(layers.Dropout(0.3))\n",
    "model.add(layers.Dense(5, activation='softmax'))"
   ]
  },
  {
   "cell_type": "code",
   "execution_count": 361,
   "id": "427c6d3b",
   "metadata": {},
   "outputs": [],
   "source": [
    "# model =models.Sequential([\n",
    "#     layers.Embedding()\n",
    "# ])"
   ]
  },
  {
   "cell_type": "code",
   "execution_count": 362,
   "id": "a74604db",
   "metadata": {},
   "outputs": [],
   "source": [
    "opt = tf.keras.optimizers.RMSprop(learning_rate=0.001)\n",
    "model.compile(optimizer=opt,\n",
    "loss='categorical_crossentropy',\n",
    "metrics=['acc'])"
   ]
  },
  {
   "cell_type": "code",
   "execution_count": 363,
   "id": "045ccf06",
   "metadata": {},
   "outputs": [],
   "source": [
    "x_val = x_train[1200:]\n",
    "partial_x_train = x_train[:1200]\n",
    "\n",
    "y_val = y_train[1200:]\n",
    "partial_y_train = y_train[:1200]"
   ]
  },
  {
   "cell_type": "code",
   "execution_count": 364,
   "id": "3d37bcf0",
   "metadata": {},
   "outputs": [
    {
     "name": "stdout",
     "output_type": "stream",
     "text": [
      "Epoch 1/20\n",
      "1490/1490 [==============================] - 2s 1ms/step - loss: 1.2202 - acc: 0.4826 - val_loss: 0.7610 - val_acc: 0.7931\n",
      "Epoch 2/20\n",
      "1490/1490 [==============================] - 2s 1ms/step - loss: 0.9009 - acc: 0.6174 - val_loss: 0.6035 - val_acc: 0.8207\n",
      "Epoch 3/20\n",
      "1490/1490 [==============================] - 2s 1ms/step - loss: 0.8221 - acc: 0.6336 - val_loss: 0.5161 - val_acc: 0.8241\n",
      "Epoch 4/20\n",
      "1490/1490 [==============================] - 2s 1ms/step - loss: 0.7851 - acc: 0.6369 - val_loss: 0.4698 - val_acc: 0.8241\n",
      "Epoch 5/20\n",
      "1490/1490 [==============================] - 2s 1ms/step - loss: 0.7504 - acc: 0.6436 - val_loss: 0.4831 - val_acc: 0.8103\n",
      "Epoch 6/20\n",
      "1490/1490 [==============================] - 2s 1ms/step - loss: 0.7313 - acc: 0.6443 - val_loss: 0.4316 - val_acc: 0.8241\n",
      "Epoch 7/20\n",
      "1490/1490 [==============================] - 2s 1ms/step - loss: 0.7514 - acc: 0.6376 - val_loss: 0.4280 - val_acc: 0.8241\n",
      "Epoch 8/20\n",
      "1490/1490 [==============================] - 2s 1ms/step - loss: 0.7571 - acc: 0.6315 - val_loss: 0.4111 - val_acc: 0.8241\n",
      "Epoch 9/20\n",
      "1490/1490 [==============================] - 2s 1ms/step - loss: 0.7636 - acc: 0.6282 - val_loss: 0.4168 - val_acc: 0.8241\n",
      "Epoch 10/20\n",
      "1490/1490 [==============================] - 2s 1ms/step - loss: 0.7720 - acc: 0.6148 - val_loss: 0.4165 - val_acc: 0.8241\n",
      "Epoch 11/20\n",
      "1490/1490 [==============================] - 2s 1ms/step - loss: 0.7500 - acc: 0.6302 - val_loss: 0.4084 - val_acc: 0.8241\n",
      "Epoch 12/20\n",
      "1490/1490 [==============================] - 2s 1ms/step - loss: 0.7533 - acc: 0.6275 - val_loss: 0.4060 - val_acc: 0.8241\n",
      "Epoch 13/20\n",
      "1490/1490 [==============================] - 2s 1ms/step - loss: 0.7196 - acc: 0.6409 - val_loss: 0.4031 - val_acc: 0.8241\n",
      "Epoch 14/20\n",
      "1490/1490 [==============================] - 2s 1ms/step - loss: 0.7414 - acc: 0.6342 - val_loss: 0.4030 - val_acc: 0.8207\n",
      "Epoch 15/20\n",
      "1490/1490 [==============================] - 2s 1ms/step - loss: 0.7312 - acc: 0.6403 - val_loss: 0.3999 - val_acc: 0.8207\n",
      "Epoch 16/20\n",
      "1490/1490 [==============================] - 2s 1ms/step - loss: 0.7057 - acc: 0.6604 - val_loss: 0.4088 - val_acc: 0.8207\n",
      "Epoch 17/20\n",
      "1490/1490 [==============================] - 2s 1ms/step - loss: 0.7094 - acc: 0.6644 - val_loss: 0.3927 - val_acc: 0.8241\n",
      "Epoch 18/20\n",
      "1490/1490 [==============================] - 2s 1ms/step - loss: 0.7250 - acc: 0.6611 - val_loss: 0.3952 - val_acc: 0.8241\n",
      "Epoch 19/20\n",
      "1490/1490 [==============================] - 2s 1ms/step - loss: 0.7184 - acc: 0.6638 - val_loss: 0.3880 - val_acc: 0.8241\n",
      "Epoch 20/20\n",
      "1490/1490 [==============================] - 2s 1ms/step - loss: 0.6940 - acc: 0.6537 - val_loss: 0.3866 - val_acc: 0.8241\n"
     ]
    }
   ],
   "source": [
    "history = model.fit(\n",
    "    x_train, \n",
    "    y_train,\n",
    "    epochs=20,\n",
    "    batch_size=1,\n",
    "    validation_data=(x_val, y_val)\n",
    ")"
   ]
  },
  {
   "cell_type": "code",
   "execution_count": 365,
   "id": "f8e06385",
   "metadata": {},
   "outputs": [
    {
     "data": {
      "image/png": "[encoded data removed]",
      "text/plain": [
       "<Figure size 432x288 with 1 Axes>"
      ]
     },
     "metadata": {
      "needs_background": "light"
     },
     "output_type": "display_data"
    }
   ],
   "source": [
    "loss = history.history['loss']\n",
    "val_loss = history.history['loss']\n",
    "\n",
    "epochs = range(1, len(loss) + 1)\n",
    "\n",
    "plt.plot(epochs, loss, label='train_loss')\n",
    "# plt.plot(epochs, val_loss, label='val_loss')\n",
    "\n",
    "plt.title('Loss vs Epochs')\n",
    "plt.xlabel('Epochs')\n",
    "plt.ylabel('Loss')\n",
    "plt.legend()\n",
    "\n",
    "plt.show()"
   ]
  },
  {
   "cell_type": "code",
   "execution_count": 359,
   "id": "d681a828",
   "metadata": {},
   "outputs": [
    {
     "data": {
      "image/png": "[encoded data removed]",
      "text/plain": [
       "<Figure size 432x288 with 1 Axes>"
      ]
     },
     "metadata": {
      "needs_background": "light"
     },
     "output_type": "display_data"
    }
   ],
   "source": [
    "plt.clf()\n",
    "acc = history.history['acc']\n",
    "val_acc = history.history['val_acc']\n",
    "plt.plot(epochs, acc, color='blue', label='train')\n",
    "plt.plot(epochs, val_acc, color='green', label='val')\n",
    "\n",
    "plt.title('Accuracy Graph')\n",
    "plt.xlabel('Epochs')\n",
    "plt.ylabel('Accuracy')\n",
    "\n",
    "plt.legend()\n",
    "plt.show()"
   ]
  },
  {
   "cell_type": "markdown",
   "id": "c31e41ee",
   "metadata": {},
   "source": [
    "## Test Data"
   ]
  },
  {
   "cell_type": "code",
   "execution_count": 152,
   "id": "1015454a",
   "metadata": {},
   "outputs": [],
   "source": [
    "test = pd.read_csv('test.csv')"
   ]
  },
  {
   "cell_type": "code",
   "execution_count": 153,
   "id": "435712d1",
   "metadata": {},
   "outputs": [
    {
     "data": {
      "text/html": [
       "<div>\n",
       "<style scoped>\n",
       "    .dataframe tbody tr th:only-of-type {\n",
       "        vertical-align: middle;\n",
       "    }\n",
       "\n",
       "    .dataframe tbody tr th {\n",
       "        vertical-align: top;\n",
       "    }\n",
       "\n",
       "    .dataframe thead th {\n",
       "        text-align: right;\n",
       "    }\n",
       "</style>\n",
       "<table border=\"1\" class=\"dataframe\">\n",
       "  <thead>\n",
       "    <tr style=\"text-align: right;\">\n",
       "      <th></th>\n",
       "      <th>article_id</th>\n",
       "      <th>text</th>\n",
       "    </tr>\n",
       "  </thead>\n",
       "  <tbody>\n",
       "    <tr>\n",
       "      <th>0</th>\n",
       "      <td>1018</td>\n",
       "      <td>qpr keeper day heads for preston queens park r...</td>\n",
       "    </tr>\n",
       "    <tr>\n",
       "      <th>1</th>\n",
       "      <td>1319</td>\n",
       "      <td>software watching while you work software that...</td>\n",
       "    </tr>\n",
       "    <tr>\n",
       "      <th>2</th>\n",
       "      <td>1138</td>\n",
       "      <td>d arcy injury adds to ireland woe gordon d arc...</td>\n",
       "    </tr>\n",
       "    <tr>\n",
       "      <th>3</th>\n",
       "      <td>459</td>\n",
       "      <td>india s reliance family feud heats up the ongo...</td>\n",
       "    </tr>\n",
       "    <tr>\n",
       "      <th>4</th>\n",
       "      <td>1020</td>\n",
       "      <td>boro suffer morrison injury blow middlesbrough...</td>\n",
       "    </tr>\n",
       "  </tbody>\n",
       "</table>\n",
       "</div>"
      ],
      "text/plain": [
       "   article_id                                               text\n",
       "0        1018  qpr keeper day heads for preston queens park r...\n",
       "1        1319  software watching while you work software that...\n",
       "2        1138  d arcy injury adds to ireland woe gordon d arc...\n",
       "3         459  india s reliance family feud heats up the ongo...\n",
       "4        1020  boro suffer morrison injury blow middlesbrough..."
      ]
     },
     "execution_count": 153,
     "metadata": {},
     "output_type": "execute_result"
    }
   ],
   "source": [
    "test.head()"
   ]
  },
  {
   "cell_type": "code",
   "execution_count": 154,
   "id": "b1ccf895",
   "metadata": {},
   "outputs": [],
   "source": [
    "article_id_test = test['article_id']"
   ]
  },
  {
   "cell_type": "code",
   "execution_count": 155,
   "id": "8f8c98bb",
   "metadata": {},
   "outputs": [],
   "source": [
    "test_df = clean_data(test)"
   ]
  },
  {
   "cell_type": "code",
   "execution_count": 156,
   "id": "d0e1e8f1",
   "metadata": {},
   "outputs": [],
   "source": [
    "# only considering the most common 1000 words\n",
    "# TODO: tune parameter if required\n",
    "\n",
    "tokenizer = Tokenizer(num_words=2000)\n",
    "\n",
    "# builds the word index\n",
    "tokenizer.fit_on_texts(list(test_df['text']))\n",
    "\n",
    "# the fitted tokenizer now converts the text to integer sequences\n",
    "test_dataset = tokenizer.texts_to_sequences(list(test_df['text']))"
   ]
  },
  {
   "cell_type": "code",
   "execution_count": 157,
   "id": "09aaef22",
   "metadata": {},
   "outputs": [],
   "source": [
    "x_test = vectorize_sequences(test_dataset)"
   ]
  },
  {
   "cell_type": "code",
   "execution_count": 158,
   "id": "626c555d",
   "metadata": {},
   "outputs": [],
   "source": [
    "predictions = model.predict(x_test)"
   ]
  },
  {
   "cell_type": "code",
   "execution_count": 159,
   "id": "65e7080f",
   "metadata": {},
   "outputs": [
    {
     "data": {
      "text/plain": [
       "735"
      ]
     },
     "execution_count": 159,
     "metadata": {},
     "output_type": "execute_result"
    }
   ],
   "source": [
    "len(predictions)"
   ]
  },
  {
   "cell_type": "code",
   "execution_count": 160,
   "id": "c64c2670",
   "metadata": {},
   "outputs": [],
   "source": [
    "prediction_copy = predictions.copy()"
   ]
  },
  {
   "cell_type": "code",
   "execution_count": 161,
   "id": "6389df08",
   "metadata": {},
   "outputs": [],
   "source": [
    "prediction_copy = np.argmax(prediction_copy, axis=1)"
   ]
  },
  {
   "cell_type": "code",
   "execution_count": 162,
   "id": "0c14e125",
   "metadata": {},
   "outputs": [],
   "source": [
    "# cat_map = {0: 'business', 1: 'entertainment', 2:'politics', 3:'sport', 4:'tech'}"
   ]
  },
  {
   "cell_type": "code",
   "execution_count": 163,
   "id": "e2131172",
   "metadata": {},
   "outputs": [],
   "source": [
    "category_number = [np.argmax(x) for x in predictions]"
   ]
  },
  {
   "cell_type": "code",
   "execution_count": 164,
   "id": "c7e4c3ea",
   "metadata": {},
   "outputs": [],
   "source": [
    "names = label_encoder.inverse_transform(category_number)"
   ]
  },
  {
   "cell_type": "code",
   "execution_count": 165,
   "id": "4a88daf9",
   "metadata": {},
   "outputs": [],
   "source": [
    "preds = pd.DataFrame({'ArticleId': article_id_test, 'Category': names})"
   ]
  },
  {
   "cell_type": "code",
   "execution_count": 166,
   "id": "a2aadc73",
   "metadata": {},
   "outputs": [
    {
     "data": {
      "text/plain": [
       "entertainment    253\n",
       "politics         218\n",
       "business         167\n",
       "tech              63\n",
       "sport             34\n",
       "Name: Category, dtype: int64"
      ]
     },
     "execution_count": 166,
     "metadata": {},
     "output_type": "execute_result"
    }
   ],
   "source": [
    "preds.Category.value_counts()"
   ]
  },
  {
   "cell_type": "code",
   "execution_count": 167,
   "id": "e212f17b",
   "metadata": {},
   "outputs": [
    {
     "data": {
      "text/html": [
       "<div>\n",
       "<style scoped>\n",
       "    .dataframe tbody tr th:only-of-type {\n",
       "        vertical-align: middle;\n",
       "    }\n",
       "\n",
       "    .dataframe tbody tr th {\n",
       "        vertical-align: top;\n",
       "    }\n",
       "\n",
       "    .dataframe thead th {\n",
       "        text-align: right;\n",
       "    }\n",
       "</style>\n",
       "<table border=\"1\" class=\"dataframe\">\n",
       "  <thead>\n",
       "    <tr style=\"text-align: right;\">\n",
       "      <th></th>\n",
       "      <th>ArticleId</th>\n",
       "      <th>Category</th>\n",
       "    </tr>\n",
       "  </thead>\n",
       "  <tbody>\n",
       "    <tr>\n",
       "      <th>0</th>\n",
       "      <td>1018</td>\n",
       "      <td>business</td>\n",
       "    </tr>\n",
       "    <tr>\n",
       "      <th>1</th>\n",
       "      <td>1319</td>\n",
       "      <td>politics</td>\n",
       "    </tr>\n",
       "    <tr>\n",
       "      <th>2</th>\n",
       "      <td>1138</td>\n",
       "      <td>tech</td>\n",
       "    </tr>\n",
       "    <tr>\n",
       "      <th>3</th>\n",
       "      <td>459</td>\n",
       "      <td>business</td>\n",
       "    </tr>\n",
       "    <tr>\n",
       "      <th>4</th>\n",
       "      <td>1020</td>\n",
       "      <td>politics</td>\n",
       "    </tr>\n",
       "  </tbody>\n",
       "</table>\n",
       "</div>"
      ],
      "text/plain": [
       "   ArticleId  Category\n",
       "0       1018  business\n",
       "1       1319  politics\n",
       "2       1138      tech\n",
       "3        459  business\n",
       "4       1020  politics"
      ]
     },
     "execution_count": 167,
     "metadata": {},
     "output_type": "execute_result"
    }
   ],
   "source": [
    "preds.head()"
   ]
  },
  {
   "cell_type": "code",
   "execution_count": 168,
   "id": "6734051c",
   "metadata": {},
   "outputs": [],
   "source": [
    "preds.to_csv('submission_news.csv', index=False)"
   ]
  },
  {
   "cell_type": "code",
   "execution_count": null,
   "id": "868065ee",
   "metadata": {},
   "outputs": [],
   "source": []
  },
  {
   "cell_type": "markdown",
   "id": "145fb250",
   "metadata": {},
   "source": [
    "## Saving The Model"
   ]
  },
  {
   "cell_type": "code",
   "execution_count": null,
   "id": "bc546f08",
   "metadata": {},
   "outputs": [],
   "source": [
    "model_version = \"0001\"\n",
    "model_name = \"news_classification_model\"\n",
    "model_path = os.path.join(model_name, model_version)\n",
    "model_path"
   ]
  },
  {
   "cell_type": "code",
   "execution_count": null,
   "id": "66b3143d",
   "metadata": {},
   "outputs": [],
   "source": [
    "tf.saved_model.save(model, model_path)"
   ]
  },
  {
   "cell_type": "code",
   "execution_count": null,
   "id": "ba55375c",
   "metadata": {},
   "outputs": [],
   "source": []
  },
  {
   "cell_type": "markdown",
   "id": "d8c62a01",
   "metadata": {},
   "source": [
    "# LAB EXPERIMENTS!! Do Not Enter"
   ]
  },
  {
   "cell_type": "code",
   "execution_count": null,
   "id": "a90cc473",
   "metadata": {},
   "outputs": [],
   "source": [
    "tf.config.list_physical_devices('GPU')"
   ]
  },
  {
   "cell_type": "code",
   "execution_count": null,
   "id": "6433d277",
   "metadata": {},
   "outputs": [],
   "source": [
    "preds['Category'].value_counts()"
   ]
  },
  {
   "cell_type": "code",
   "execution_count": null,
   "id": "f95d95e2",
   "metadata": {},
   "outputs": [],
   "source": [
    "seq_lb = [[1, 2, 3],\n",
    "         [2, 3],\n",
    "         [1, 3]]"
   ]
  },
  {
   "cell_type": "code",
   "execution_count": null,
   "id": "b061b26f",
   "metadata": {},
   "outputs": [],
   "source": [
    "dimension=5\n",
    "results = np.zeros((len(seq_lb), dimension))\n",
    "results"
   ]
  },
  {
   "cell_type": "code",
   "execution_count": null,
   "id": "67553970",
   "metadata": {},
   "outputs": [],
   "source": [
    "for i, seq in enumerate(seq_lb):\n",
    "    results[i, seq] = 1\n",
    "    print(results[i, seq] )\n",
    "    print(\"=\")"
   ]
  },
  {
   "cell_type": "code",
   "execution_count": null,
   "id": "c8532a0b",
   "metadata": {},
   "outputs": [],
   "source": [
    "results"
   ]
  },
  {
   "cell_type": "code",
   "execution_count": null,
   "id": "3340d6c4",
   "metadata": {},
   "outputs": [],
   "source": [
    "from keras.datasets import imdb\n",
    "(train_data, train_label), (test_data, test_label) = imdb.load_data(num_words=10000)"
   ]
  },
  {
   "cell_type": "code",
   "execution_count": null,
   "id": "a7237047",
   "metadata": {},
   "outputs": [],
   "source": [
    "x_train = vectorize_sequences(train_data, 10000)\n",
    "x_test = vectorize_sequences(test_data, 10000)\n",
    "y_train = np.asarray(train_label).astype('float32')\n",
    "y_test = np.asarray(test_label).astype('float32')"
   ]
  },
  {
   "cell_type": "code",
   "execution_count": null,
   "id": "776e030d",
   "metadata": {},
   "outputs": [],
   "source": [
    "model = models.Sequential()\n",
    "model.add(layers.Dense(16, activation='relu', input_shape=(10000,)))\n",
    "model.add(layers.Dense(16, activation='relu'))\n",
    "model.add(layers.Dense(1, activation='sigmoid'))"
   ]
  },
  {
   "cell_type": "code",
   "execution_count": null,
   "id": "f4274e19",
   "metadata": {},
   "outputs": [],
   "source": [
    "opt = tf.keras.optimizers.RMSprop(learning_rate=0.001)\n",
    "model.compile(optimizer=opt,\n",
    "loss='categorical_crossentropy',\n",
    "metrics=['acc'])"
   ]
  },
  {
   "cell_type": "code",
   "execution_count": null,
   "id": "8ff6d292",
   "metadata": {},
   "outputs": [],
   "source": [
    "x_val = x_train[10000:]\n",
    "partial_x_train = x_train[:10000]\n",
    "\n",
    "y_val = train_label[10000:]\n",
    "partial_y_train = train_label[:10000]"
   ]
  },
  {
   "cell_type": "code",
   "execution_count": null,
   "id": "93fdd0ae",
   "metadata": {},
   "outputs": [],
   "source": [
    "history = model.fit(\n",
    "    x_train, \n",
    "    y_train,\n",
    "    epochs=20,\n",
    "    batch_size=512,\n",
    "    validation_data=(x_val, y_val)\n",
    ")"
   ]
  },
  {
   "cell_type": "code",
   "execution_count": null,
   "id": "09f4aa6b",
   "metadata": {},
   "outputs": [],
   "source": []
  }
 ],
 "metadata": {
  "kernelspec": {
   "display_name": "Python 3 (ipykernel)",
   "language": "python",
   "name": "python3"
  },
  "language_info": {
   "codemirror_mode": {
    "name": "ipython",
    "version": 3
   },
   "file_extension": ".py",
   "mimetype": "text/x-python",
   "name": "python",
   "nbconvert_exporter": "python",
   "pygments_lexer": "ipython3",
   "version": "3.8.12"
  }
 },
 "nbformat": 4,
 "nbformat_minor": 5
}

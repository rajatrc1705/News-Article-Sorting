{
 "cells": [
  {
   "cell_type": "code",
   "execution_count": 3,
   "id": "e92a47a9",
   "metadata": {},
   "outputs": [],
   "source": [
    "import re\n",
    "import os\n",
    "import logging\n",
    "import numpy as np\n",
    "import pandas as pd\n",
    "import matplotlib.pyplot as plt\n",
    "import tensorflow as tf\n",
    "from keras.preprocessing.text import Tokenizer\n",
    "from keras import models, layers\n",
    "from keras.utils.np_utils import to_categorical\n",
    "from sklearn import preprocessing, metrics\n",
    "from sklearn.model_selection import KFold\n",
    "import nltk\n",
    "from nltk import word_tokenize\n",
    "from nltk.corpus import stopwords\n",
    "from nltk.stem import WordNetLemmatizer\n",
    "from python_project import database_interaction as db\n",
    "from python_project import connect_database"
   ]
  },
  {
   "cell_type": "markdown",
   "id": "10fab539",
   "metadata": {},
   "source": [
    "## Preprocess"
   ]
  },
  {
   "cell_type": "code",
   "execution_count": 4,
   "id": "7601eafe",
   "metadata": {},
   "outputs": [
    {
     "name": "stderr",
     "output_type": "stream",
     "text": [
      "[nltk_data] Downloading package punkt to /home/rajat/nltk_data...\n",
      "[nltk_data]   Package punkt is already up-to-date!\n",
      "[nltk_data] Downloading package stopwords to /home/rajat/nltk_data...\n",
      "[nltk_data]   Package stopwords is already up-to-date!\n",
      "[nltk_data] Downloading package wordnet to /home/rajat/nltk_data...\n",
      "[nltk_data]   Package wordnet is already up-to-date!\n",
      "[nltk_data] Downloading package omw-1.4 to /home/rajat/nltk_data...\n",
      "[nltk_data]   Package omw-1.4 is already up-to-date!\n"
     ]
    },
    {
     "data": {
      "text/plain": [
       "True"
      ]
     },
     "execution_count": 4,
     "metadata": {},
     "output_type": "execute_result"
    }
   ],
   "source": [
    "nltk.download('punkt')\n",
    "nltk.download('stopwords')\n",
    "nltk.download('wordnet')\n",
    "nltk.download('omw-1.4')"
   ]
  },
  {
   "cell_type": "code",
   "execution_count": 5,
   "id": "241607cc",
   "metadata": {},
   "outputs": [],
   "source": [
    "def remove_stopwords(text):\n",
    "    stop_words = set(stopwords.words('english'))\n",
    "    words = word_tokenize(text)\n",
    "    return \" \".join([x for x in words if x not in stop_words])"
   ]
  },
  {
   "cell_type": "code",
   "execution_count": 6,
   "id": "15a016cd",
   "metadata": {},
   "outputs": [],
   "source": [
    "def lemmatize(text):\n",
    "    text = text.split()\n",
    "    wordnet = WordNetLemmatizer()\n",
    "    return \" \".join([wordnet.lemmatize(word) for word in text])"
   ]
  },
  {
   "cell_type": "code",
   "execution_count": 7,
   "id": "876073ae",
   "metadata": {},
   "outputs": [],
   "source": [
    "def concatenate(text):\n",
    "    text = text.split()\n",
    "    return \" \".join(text)"
   ]
  },
  {
   "cell_type": "code",
   "execution_count": 8,
   "id": "6e8f9f6a",
   "metadata": {},
   "outputs": [],
   "source": [
    "def lower_case(text):\n",
    "    return text.lower()"
   ]
  },
  {
   "cell_type": "code",
   "execution_count": 9,
   "id": "8c16d05f",
   "metadata": {},
   "outputs": [],
   "source": [
    "def remove_special_characters(text):\n",
    "    text = re.sub(\"<br\\\\s*/?>\", \" \", text)\n",
    "    text = re.sub(\"[^a-zA-Z']\", \" \", text)\n",
    "    text = re.sub(\"-\", \" \", text)\n",
    "    return text"
   ]
  },
  {
   "cell_type": "code",
   "execution_count": 10,
   "id": "2ca4bdd4",
   "metadata": {},
   "outputs": [
    {
     "name": "stdout",
     "output_type": "stream",
     "text": [
      "Connection Successful:  4.0.0.6816\n"
     ]
    }
   ],
   "source": [
    "# connecting to the database and creating a session \n",
    "try_again = True\n",
    "while try_again:\n",
    "    try:\n",
    "        session = connect_database.connect()\n",
    "        try_again = False\n",
    "    except:\n",
    "        logging.error(\"Connection attempt failed! Trying again\")\n",
    "        try_again = True"
   ]
  },
  {
   "cell_type": "code",
   "execution_count": 11,
   "id": "b7078d51",
   "metadata": {},
   "outputs": [],
   "source": [
    "def preprocess(text):\n",
    "    text = lower_case(text)\n",
    "    text = remove_special_characters(text)\n",
    "    text = remove_stopwords(text)\n",
    "    text = concatenate(text)\n",
    "    text = lemmatize(text)\n",
    "    return text"
   ]
  },
  {
   "cell_type": "code",
   "execution_count": 12,
   "id": "6e3bf185",
   "metadata": {},
   "outputs": [
    {
     "name": "stdout",
     "output_type": "stream",
     "text": [
      "Connection Successful:  4.0.0.6816\n"
     ]
    }
   ],
   "source": [
    "df = db.get_dataframe()"
   ]
  },
  {
   "cell_type": "code",
   "execution_count": 13,
   "id": "179c7972",
   "metadata": {},
   "outputs": [],
   "source": [
    "df_org = df.copy()"
   ]
  },
  {
   "cell_type": "code",
   "execution_count": 14,
   "id": "e9b2f93d",
   "metadata": {},
   "outputs": [],
   "source": [
    "class Dataset:\n",
    "    \n",
    "    def __init__(self, dataframe, num_words=2000):\n",
    "        self.num_words = num_words\n",
    "        self.dataframe = dataframe\n",
    "        self.tokenizer = Tokenizer(num_words)\n",
    "        self.label_encoder = preprocessing.LabelEncoder()\n",
    "        self.dimension = 2000\n",
    "        self.text = \"\"\n",
    "\n",
    "    def preprocess(self, text):\n",
    "        \"\"\"\n",
    "        Description: Preprocess Text Data\n",
    "        Params: Text (str)\n",
    "        Returns: Cleaned Text (Str)\n",
    "\n",
    "        \"\"\"\n",
    "        '''\n",
    "            Description: Preprocess Text Data\n",
    "            Params: Text (str)\n",
    "            Returns: Cleaned Text (Str)\n",
    "        '''\n",
    "        \n",
    "        self.text = text\n",
    "        self.text = lower_case(self.text)\n",
    "        self.text = remove_special_characters(self.text)\n",
    "        self.text = remove_stopwords(self.text)\n",
    "        self.text = concatenate(self.text)\n",
    "        self.text = lemmatize(self.text)\n",
    "        return self.text\n",
    "    \n",
    "    def vectorize_sequences(self, sequences, dimension=2000):\n",
    "        \"\"\"\n",
    "            Description: Vectorizes sequences according to the dimensions. Step takes place after text to sequences.\n",
    "            Params: sequences (vector of vector), dimension (int)\n",
    "            Returns: result\n",
    "        \"\"\"\n",
    "            \n",
    "        self.dimension = dimension\n",
    "        sequences = sequences\n",
    "        results = np.zeros((len(sequences), self.dimension))\n",
    "        for i, sequence in enumerate(sequences):\n",
    "            results[i, sequence] = 1.\n",
    "        return results\n",
    "    \n",
    "    def get_tokenizer(self):\n",
    "        '''\n",
    "            Description: Trains tokenizer on train set and returns it\n",
    "            Params: None\n",
    "            Returns: tokenizer\n",
    "        '''\n",
    "\n",
    "        # builds the word index\n",
    "        self.tokenizer.fit_on_texts(list(df['news']))\n",
    "        \n",
    "        return self.tokenizer\n",
    "    \n",
    "    def prepare_data(self, df, tokenizer):\n",
    "        '''\n",
    "            Description: Converts the data from texts to sequences of integer\n",
    "            Params: dataframe(pandas dataframe), tokenizer\n",
    "            Returns: sequences\n",
    "        '''\n",
    "\n",
    "        # the fitted tokenizer now converts the text to integer sequences\n",
    "        sequences = tokenizer.texts_to_sequences(list(df['news']))\n",
    "\n",
    "        logging.info(\"The dataset is retrieved from the database and is preprocessed\")\n",
    "        \n",
    "        return sequences\n",
    "    \n",
    "    def get_train_data(self):\n",
    "        \n",
    "        self.dataframe['news'] = self.dataframe['news'].apply(self.preprocess)\n",
    "        self.tokenizer = self.get_tokenizer()\n",
    "        seq = self.prepare_data(self.dataframe, self.tokenizer)\n",
    "        train_dataset = self.vectorize_sequences(seq, self.num_words)\n",
    "        return train_dataset\n",
    "    \n",
    "    def get_labels(self, dataframe_cp, get_encoder_only=False):\n",
    "        \n",
    "        # label_encoder object knows how to understand word labels.\n",
    "        \n",
    "        # Encode labels in column 'species'.\n",
    "        dataframe_cp['category'] = self.label_encoder.fit_transform(dataframe_cp['category'])\n",
    "        \n",
    "        train_labels = dataframe_cp['category']\n",
    "        \n",
    "        y_train = to_categorical(train_labels)\n",
    "        \n",
    "        if get_encoder_only:\n",
    "            return self.label_encoder\n",
    "        \n",
    "        return y_train\n",
    "    "
   ]
  },
  {
   "cell_type": "code",
   "execution_count": 15,
   "id": "bcea7f0d",
   "metadata": {},
   "outputs": [],
   "source": [
    "df_cp = df.copy()\n",
    "dataset = Dataset(df_cp, num_words=2000)\n",
    "x_train = dataset.get_train_data()\n",
    "df_lb = df_cp.copy()\n",
    "y_train = dataset.get_labels(df_lb)"
   ]
  },
  {
   "cell_type": "code",
   "execution_count": 16,
   "id": "8fa60b89",
   "metadata": {},
   "outputs": [
    {
     "data": {
      "text/html": [
       "<div>\n",
       "<style scoped>\n",
       "    .dataframe tbody tr th:only-of-type {\n",
       "        vertical-align: middle;\n",
       "    }\n",
       "\n",
       "    .dataframe tbody tr th {\n",
       "        vertical-align: top;\n",
       "    }\n",
       "\n",
       "    .dataframe thead th {\n",
       "        text-align: right;\n",
       "    }\n",
       "</style>\n",
       "<table border=\"1\" class=\"dataframe\">\n",
       "  <thead>\n",
       "    <tr style=\"text-align: right;\">\n",
       "      <th></th>\n",
       "      <th>article_id</th>\n",
       "      <th>news</th>\n",
       "      <th>category</th>\n",
       "    </tr>\n",
       "  </thead>\n",
       "  <tbody>\n",
       "    <tr>\n",
       "      <th>0</th>\n",
       "      <td>1584</td>\n",
       "      <td>alicia key open u super bowl r b star alicia k...</td>\n",
       "      <td>1</td>\n",
       "    </tr>\n",
       "    <tr>\n",
       "      <th>1</th>\n",
       "      <td>1863</td>\n",
       "      <td>johnson uncertain euro bid jade johnson undeci...</td>\n",
       "      <td>3</td>\n",
       "    </tr>\n",
       "    <tr>\n",
       "      <th>2</th>\n",
       "      <td>1765</td>\n",
       "      <td>nintendo d aim touch gamers mobile gaming indu...</td>\n",
       "      <td>4</td>\n",
       "    </tr>\n",
       "    <tr>\n",
       "      <th>3</th>\n",
       "      <td>2062</td>\n",
       "      <td>turkey deal help world peace deal bringing tur...</td>\n",
       "      <td>2</td>\n",
       "    </tr>\n",
       "    <tr>\n",
       "      <th>4</th>\n",
       "      <td>1199</td>\n",
       "      <td>sale fail boost high street january sale faile...</td>\n",
       "      <td>0</td>\n",
       "    </tr>\n",
       "    <tr>\n",
       "      <th>...</th>\n",
       "      <td>...</td>\n",
       "      <td>...</td>\n",
       "      <td>...</td>\n",
       "    </tr>\n",
       "    <tr>\n",
       "      <th>1485</th>\n",
       "      <td>2086</td>\n",
       "      <td>mobile game come age bbc news website take loo...</td>\n",
       "      <td>4</td>\n",
       "    </tr>\n",
       "    <tr>\n",
       "      <th>1486</th>\n",
       "      <td>232</td>\n",
       "      <td>mr howard get key election role michael howard...</td>\n",
       "      <td>2</td>\n",
       "    </tr>\n",
       "    <tr>\n",
       "      <th>1487</th>\n",
       "      <td>1843</td>\n",
       "      <td>mitsubishi peugeot link talk trouble hit mitsu...</td>\n",
       "      <td>0</td>\n",
       "    </tr>\n",
       "    <tr>\n",
       "      <th>1488</th>\n",
       "      <td>986</td>\n",
       "      <td>cup holder man utd visit everton holder manche...</td>\n",
       "      <td>3</td>\n",
       "    </tr>\n",
       "    <tr>\n",
       "      <th>1489</th>\n",
       "      <td>1614</td>\n",
       "      <td>sprinter walker quits athletics former europea...</td>\n",
       "      <td>3</td>\n",
       "    </tr>\n",
       "  </tbody>\n",
       "</table>\n",
       "<p>1490 rows × 3 columns</p>\n",
       "</div>"
      ],
      "text/plain": [
       "      article_id                                               news  category\n",
       "0           1584  alicia key open u super bowl r b star alicia k...         1\n",
       "1           1863  johnson uncertain euro bid jade johnson undeci...         3\n",
       "2           1765  nintendo d aim touch gamers mobile gaming indu...         4\n",
       "3           2062  turkey deal help world peace deal bringing tur...         2\n",
       "4           1199  sale fail boost high street january sale faile...         0\n",
       "...          ...                                                ...       ...\n",
       "1485        2086  mobile game come age bbc news website take loo...         4\n",
       "1486         232  mr howard get key election role michael howard...         2\n",
       "1487        1843  mitsubishi peugeot link talk trouble hit mitsu...         0\n",
       "1488         986  cup holder man utd visit everton holder manche...         3\n",
       "1489        1614  sprinter walker quits athletics former europea...         3\n",
       "\n",
       "[1490 rows x 3 columns]"
      ]
     },
     "execution_count": 16,
     "metadata": {},
     "output_type": "execute_result"
    }
   ],
   "source": [
    "df_lb"
   ]
  },
  {
   "cell_type": "code",
   "execution_count": 17,
   "id": "8b5e73d6",
   "metadata": {},
   "outputs": [],
   "source": [
    "# cross-validate \n",
    "kf = KFold(n_splits=6, shuffle=True, random_state=42)"
   ]
  },
  {
   "cell_type": "code",
   "execution_count": 18,
   "id": "656a71b7",
   "metadata": {},
   "outputs": [
    {
     "name": "stdout",
     "output_type": "stream",
     "text": [
      "Fold Number: 1\n"
     ]
    },
    {
     "name": "stderr",
     "output_type": "stream",
     "text": [
      "2022-01-31 22:35:30.291016: I tensorflow/stream_executor/cuda/cuda_gpu_executor.cc:939] successful NUMA node read from SysFS had negative value (-1), but there must be at least one NUMA node, so returning NUMA node zero\n",
      "2022-01-31 22:35:30.320385: W tensorflow/stream_executor/platform/default/dso_loader.cc:64] Could not load dynamic library 'libcudnn.so.8'; dlerror: libcudnn.so.8: cannot open shared object file: No such file or directory\n",
      "2022-01-31 22:35:30.320403: W tensorflow/core/common_runtime/gpu/gpu_device.cc:1850] Cannot dlopen some GPU libraries. Please make sure the missing libraries mentioned above are installed properly if you would like to use GPU. Follow the guide at https://www.tensorflow.org/install/gpu for how to download and setup the required libraries for your platform.\n",
      "Skipping registering GPU devices...\n",
      "2022-01-31 22:35:30.321082: I tensorflow/core/platform/cpu_feature_guard.cc:151] This TensorFlow binary is optimized with oneAPI Deep Neural Network Library (oneDNN) to use the following CPU instructions in performance-critical operations:  AVX2 FMA\n",
      "To enable them in other operations, rebuild TensorFlow with the appropriate compiler flags.\n"
     ]
    },
    {
     "name": "stdout",
     "output_type": "stream",
     "text": [
      "Loss for Fold 1 : 0.963855421686747\n",
      "Fold Number: 2\n",
      "Loss for Fold 2 : 0.9718875502008032\n",
      "Fold Number: 3\n",
      "Loss for Fold 3 : 0.9717741935483871\n",
      "Fold Number: 4\n",
      "Loss for Fold 4 : 0.9637096774193549\n",
      "Fold Number: 5\n",
      "Loss for Fold 5 : 0.9838709677419355\n",
      "Fold Number: 6\n",
      "Loss for Fold 6 : 0.9556451612903226\n",
      "\n",
      "\n",
      "Total loss computed : 0.9684571619812584\n"
     ]
    }
   ],
   "source": [
    "fold = 0\n",
    "oos_y = list()\n",
    "oos_pred = list()\n",
    "all_scores = list()\n",
    "\n",
    "for train, test in kf.split(x_train):\n",
    "    \n",
    "    fold += 1\n",
    "    print(f\"Fold Number: {fold}\")\n",
    "#     print(train.shape)\n",
    "#     print(test)\n",
    "    x_train_fold = x_train[train]\n",
    "    y_train_fold = y_train[train]\n",
    "    x_test_fold = x_train[test]\n",
    "    y_test_fold = y_train[test]\n",
    "    \n",
    "    model = models.Sequential()\n",
    "    # , kernel_regularizer=regularizers.l2(0.001)\n",
    "    model.add(layers.Dense(6, activation='relu', input_shape=(2000,)))\n",
    "    model.add(layers.Dense(8, activation='relu'))\n",
    "    #     model.add(layers.Dense(6, activation='relu'))\n",
    "#     model.add(layers.Dropout(0.5))\n",
    "    model.add(layers.Dense(5, activation='softmax'))\n",
    "    \n",
    "    opt = tf.keras.optimizers.Adam(learning_rate=0.001)\n",
    "    model.compile(optimizer=opt,\n",
    "    loss='categorical_crossentropy',\n",
    "    metrics=['acc'])\n",
    "    \n",
    "    history = model.fit(\n",
    "    x_train_fold, \n",
    "    y_train_fold,\n",
    "    epochs=10,\n",
    "    batch_size=1,\n",
    "    verbose=0,\n",
    "    validation_data=(x_test_fold, y_test_fold)\n",
    "    )\n",
    "    \n",
    "    pred = model.predict(x_test_fold)\n",
    "    pred_comp = np.argmax(pred, axis=1)\n",
    "    \n",
    "#     oos_y.append(y_test_fold)\n",
    "#     oos_pred.append(pred)\n",
    "    \n",
    "    y_test_comp = np.argmax(y_test_fold, axis=1)\n",
    "    \n",
    "    oos_y.append(y_test_comp)\n",
    "    oos_pred.append(pred_comp)\n",
    "    \n",
    "    # Measuring this fold's RMSE\n",
    "    # cce = tf.keras.losses.CategoricalCrossentropy()\n",
    "    # print(f\"Loss for Fold {fold} : {cce(y_test_fold, pred).numpy()}\")\n",
    "    score = metrics.accuracy_score(y_test_comp, pred_comp)\n",
    "    print(f\"Loss for Fold {fold} : {score}\")\n",
    "    all_scores.append(score)\n",
    "    \n",
    "# Build the oos prediction list and calculate the error\n",
    "oos_y = np.concatenate(oos_y)\n",
    "oos_pred = np.concatenate(oos_pred)\n",
    "\n",
    "# cce = tf.keras.losses.CategoricalCrossentropy()\n",
    "# print(f\"Total Loss Computed : {cce(oos_y, oos_pred).numpy()}\")\n",
    "score = np.array(all_scores).mean()\n",
    "print(f\"\\n\\nTotal loss computed : {score}\")"
   ]
  },
  {
   "cell_type": "code",
   "execution_count": 19,
   "id": "37ef736b",
   "metadata": {},
   "outputs": [
    {
     "data": {
      "image/png": "[encoded data removed]",
      "text/plain": [
       "<Figure size 432x288 with 1 Axes>"
      ]
     },
     "metadata": {
      "needs_background": "light"
     },
     "output_type": "display_data"
    }
   ],
   "source": [
    "loss = history.history['loss']\n",
    "val_loss = history.history['loss']\n",
    "\n",
    "epochs = range(1, len(loss) + 1)\n",
    "\n",
    "plt.plot(epochs, loss, label='train_loss')\n",
    "# plt.plot(epochs, val_loss, label='val_loss')\n",
    "\n",
    "plt.title('Loss vs Epochs')\n",
    "plt.xlabel('Epochs')\n",
    "plt.ylabel('Loss')\n",
    "plt.legend()\n",
    "\n",
    "plt.show()"
   ]
  },
  {
   "cell_type": "code",
   "execution_count": 20,
   "id": "fd28c6b3",
   "metadata": {},
   "outputs": [],
   "source": [
    "test = pd.read_csv('test.csv')\n",
    "\n",
    "test.rename(columns = {'text':'news'}, inplace = True)\n",
    "\n",
    "test['news'] = test['news'].apply(dataset.preprocess)"
   ]
  },
  {
   "cell_type": "code",
   "execution_count": 21,
   "id": "15e61d49",
   "metadata": {},
   "outputs": [],
   "source": [
    "# getting tokenizer on which the train dataset was trained!! \n",
    "# not training a separate tokenizer for test dataset\n",
    "tokenizer = dataset.get_tokenizer()"
   ]
  },
  {
   "cell_type": "code",
   "execution_count": 22,
   "id": "c6118912",
   "metadata": {},
   "outputs": [],
   "source": [
    "x_test_seq = dataset.prepare_data(test, tokenizer)\n",
    "\n",
    "x_test = dataset.vectorize_sequences(x_test_seq)"
   ]
  },
  {
   "cell_type": "code",
   "execution_count": 23,
   "id": "bff32ff3",
   "metadata": {},
   "outputs": [],
   "source": [
    "predictions = model.predict(x_test)"
   ]
  },
  {
   "cell_type": "code",
   "execution_count": 24,
   "id": "eabbdda9",
   "metadata": {},
   "outputs": [
    {
     "name": "stderr",
     "output_type": "stream",
     "text": [
      "WARNING:cassandra.cluster:Downgrading core protocol version from 66 to 65 for 8a69b493-9469-47b5-a751-2d464f2ef785-asia-south1.db.astra.datastax.com:29042:c6ac8f9c-0edd-4527-a5fa-6463a811fd48. To avoid this, it is best practice to explicitly set Cluster(protocol_version) to the version supported by your cluster. http://datastax.github.io/python-driver/api/cassandra/cluster.html#cassandra.cluster.Cluster.protocol_version\n",
      "WARNING:cassandra.cluster:Downgrading core protocol version from 65 to 5 for 8a69b493-9469-47b5-a751-2d464f2ef785-asia-south1.db.astra.datastax.com:29042:c6ac8f9c-0edd-4527-a5fa-6463a811fd48. To avoid this, it is best practice to explicitly set Cluster(protocol_version) to the version supported by your cluster. http://datastax.github.io/python-driver/api/cassandra/cluster.html#cassandra.cluster.Cluster.protocol_version\n",
      "ERROR:cassandra.connection:Closing connection <LibevConnection(139862506146592) 8a69b493-9469-47b5-a751-2d464f2ef785-asia-south1.db.astra.datastax.com:29042:c6ac8f9c-0edd-4527-a5fa-6463a811fd48> due to protocol error: Error from server: code=000a [Protocol error] message=\"Beta version of the protocol used (5/v5-beta), but USE_BETA flag is unset\"\n",
      "WARNING:cassandra.cluster:Downgrading core protocol version from 5 to 4 for 8a69b493-9469-47b5-a751-2d464f2ef785-asia-south1.db.astra.datastax.com:29042:c6ac8f9c-0edd-4527-a5fa-6463a811fd48. To avoid this, it is best practice to explicitly set Cluster(protocol_version) to the version supported by your cluster. http://datastax.github.io/python-driver/api/cassandra/cluster.html#cassandra.cluster.Cluster.protocol_version\n"
     ]
    },
    {
     "name": "stdout",
     "output_type": "stream",
     "text": [
      "Connection Successful:  4.0.0.6816\n"
     ]
    }
   ],
   "source": [
    "df_org = db.get_dataframe()"
   ]
  },
  {
   "cell_type": "code",
   "execution_count": 25,
   "id": "1b330152",
   "metadata": {},
   "outputs": [],
   "source": [
    "# label_encoder object knows how to understand word labels.\n",
    "label_encoder = preprocessing.LabelEncoder()\n",
    "\n",
    "# Encode labels in column 'species'.\n",
    "df_org['category'] = label_encoder.fit_transform(df_org['category'])"
   ]
  },
  {
   "cell_type": "code",
   "execution_count": 26,
   "id": "5ea6231f",
   "metadata": {},
   "outputs": [],
   "source": [
    "category_number = [np.argmax(x) for x in predictions]\n",
    "# label_encoder = dataset.get_labels(df_cp, get_encoder_only=True)\n",
    "names = label_encoder.inverse_transform(category_number)\n",
    "preds = pd.DataFrame({'ArticleId': test['article_id'], 'Category': names})\n",
    "preds.to_csv('submission_news.csv', index=False)"
   ]
  },
  {
   "cell_type": "code",
   "execution_count": 27,
   "id": "616a7c75",
   "metadata": {},
   "outputs": [
    {
     "data": {
      "text/plain": [
       "array(['sport', 'tech', 'sport', 'business', 'sport', 'sport', 'politics',\n",
       "       'politics', 'entertainment', 'business', 'business', 'tech',\n",
       "       'politics', 'tech', 'entertainment', 'sport', 'business', 'tech',\n",
       "       'entertainment', 'entertainment', 'business', 'politics', 'sport',\n",
       "       'business', 'politics', 'sport', 'business', 'sport', 'sport',\n",
       "       'business', 'politics', 'tech', 'business', 'business', 'sport',\n",
       "       'sport', 'sport', 'business', 'entertainment', 'entertainment',\n",
       "       'tech', 'politics', 'entertainment', 'tech', 'sport', 'tech',\n",
       "       'entertainment', 'business', 'politics', 'business', 'politics',\n",
       "       'business', 'business', 'business', 'tech', 'politics', 'tech',\n",
       "       'entertainment', 'sport', 'tech', 'sport', 'entertainment', 'tech',\n",
       "       'politics', 'business', 'entertainment', 'entertainment', 'tech',\n",
       "       'sport', 'sport', 'business', 'sport', 'business', 'politics',\n",
       "       'tech', 'sport', 'business', 'tech', 'tech', 'entertainment',\n",
       "       'politics', 'sport', 'entertainment', 'entertainment', 'business',\n",
       "       'entertainment', 'business', 'entertainment', 'business', 'tech',\n",
       "       'business', 'politics', 'sport', 'tech', 'sport', 'sport', 'sport',\n",
       "       'sport', 'sport', 'sport', 'politics', 'sport', 'politics',\n",
       "       'entertainment', 'business', 'sport', 'politics', 'sport',\n",
       "       'politics', 'entertainment', 'sport', 'business', 'entertainment',\n",
       "       'sport', 'politics', 'sport', 'politics', 'sport', 'politics',\n",
       "       'business', 'entertainment', 'business', 'entertainment',\n",
       "       'politics', 'tech', 'sport', 'business', 'entertainment',\n",
       "       'business', 'entertainment', 'business', 'politics', 'politics',\n",
       "       'tech', 'business', 'business', 'politics', 'tech',\n",
       "       'entertainment', 'sport', 'business', 'tech', 'sport',\n",
       "       'entertainment', 'politics', 'sport', 'sport', 'entertainment',\n",
       "       'entertainment', 'tech', 'business', 'tech', 'politics',\n",
       "       'entertainment', 'sport', 'sport', 'sport', 'sport',\n",
       "       'entertainment', 'tech', 'business', 'tech', 'business', 'tech',\n",
       "       'business', 'tech', 'entertainment', 'tech', 'tech', 'politics',\n",
       "       'business', 'politics', 'business', 'business', 'entertainment',\n",
       "       'politics', 'tech', 'business', 'business', 'tech', 'sport',\n",
       "       'politics', 'sport', 'politics', 'business', 'tech', 'politics',\n",
       "       'business', 'politics', 'entertainment', 'politics', 'business',\n",
       "       'entertainment', 'sport', 'tech', 'tech', 'business', 'tech',\n",
       "       'politics', 'business', 'sport', 'politics', 'business',\n",
       "       'entertainment', 'business', 'business', 'sport', 'tech',\n",
       "       'entertainment', 'sport', 'entertainment', 'entertainment',\n",
       "       'sport', 'entertainment', 'sport', 'tech', 'politics',\n",
       "       'entertainment', 'sport', 'entertainment', 'sport',\n",
       "       'entertainment', 'politics', 'business', 'tech', 'entertainment',\n",
       "       'business', 'politics', 'business', 'tech', 'business', 'sport',\n",
       "       'politics', 'politics', 'business', 'politics', 'sport',\n",
       "       'business', 'entertainment', 'politics', 'sport', 'politics',\n",
       "       'business', 'sport', 'tech', 'business', 'politics', 'business',\n",
       "       'politics', 'business', 'business', 'sport', 'tech', 'politics',\n",
       "       'business', 'tech', 'entertainment', 'tech', 'sport', 'sport',\n",
       "       'tech', 'sport', 'sport', 'sport', 'entertainment', 'sport',\n",
       "       'politics', 'tech', 'business', 'sport', 'business', 'sport',\n",
       "       'business', 'sport', 'entertainment', 'business', 'business',\n",
       "       'entertainment', 'politics', 'business', 'sport', 'sport', 'tech',\n",
       "       'sport', 'sport', 'entertainment', 'business', 'sport', 'tech',\n",
       "       'politics', 'entertainment', 'business', 'business', 'politics',\n",
       "       'sport', 'entertainment', 'politics', 'business', 'sport', 'sport',\n",
       "       'tech', 'entertainment', 'sport', 'business', 'tech', 'business',\n",
       "       'sport', 'politics', 'entertainment', 'entertainment', 'politics',\n",
       "       'entertainment', 'politics', 'business', 'politics', 'tech',\n",
       "       'business', 'sport', 'tech', 'entertainment', 'politics', 'sport',\n",
       "       'politics', 'politics', 'business', 'politics', 'sport', 'tech',\n",
       "       'politics', 'tech', 'tech', 'entertainment', 'entertainment',\n",
       "       'tech', 'politics', 'business', 'politics', 'sport', 'tech',\n",
       "       'entertainment', 'entertainment', 'business', 'sport', 'tech',\n",
       "       'tech', 'entertainment', 'tech', 'business', 'sport',\n",
       "       'entertainment', 'tech', 'business', 'politics', 'tech', 'tech',\n",
       "       'politics', 'politics', 'sport', 'business', 'tech', 'sport',\n",
       "       'politics', 'politics', 'business', 'tech', 'sport', 'politics',\n",
       "       'business', 'politics', 'politics', 'tech', 'entertainment',\n",
       "       'business', 'business', 'sport', 'sport', 'sport', 'tech', 'sport',\n",
       "       'politics', 'tech', 'tech', 'politics', 'business', 'sport',\n",
       "       'sport', 'entertainment', 'entertainment', 'sport', 'tech',\n",
       "       'business', 'sport', 'tech', 'entertainment', 'politics', 'tech',\n",
       "       'sport', 'business', 'politics', 'entertainment', 'business',\n",
       "       'tech', 'sport', 'politics', 'business', 'politics', 'politics',\n",
       "       'tech', 'sport', 'entertainment', 'business', 'tech', 'business',\n",
       "       'tech', 'sport', 'sport', 'politics', 'business', 'tech', 'sport',\n",
       "       'politics', 'business', 'business', 'tech', 'politics', 'tech',\n",
       "       'business', 'politics', 'business', 'entertainment', 'business',\n",
       "       'entertainment', 'business', 'entertainment', 'sport', 'business',\n",
       "       'business', 'business', 'sport', 'entertainment', 'business',\n",
       "       'entertainment', 'entertainment', 'sport', 'tech', 'entertainment',\n",
       "       'tech', 'business', 'politics', 'entertainment', 'politics',\n",
       "       'politics', 'sport', 'business', 'sport', 'politics',\n",
       "       'entertainment', 'entertainment', 'business', 'business', 'sport',\n",
       "       'politics', 'sport', 'business', 'politics', 'business', 'sport',\n",
       "       'sport', 'politics', 'sport', 'tech', 'business', 'politics',\n",
       "       'sport', 'politics', 'tech', 'business', 'politics', 'tech',\n",
       "       'politics', 'politics', 'entertainment', 'tech', 'sport', 'sport',\n",
       "       'politics', 'business', 'tech', 'politics', 'sport', 'sport',\n",
       "       'entertainment', 'business', 'entertainment', 'entertainment',\n",
       "       'business', 'politics', 'sport', 'business', 'tech', 'tech',\n",
       "       'business', 'politics', 'sport', 'business', 'sport', 'business',\n",
       "       'politics', 'business', 'sport', 'politics', 'tech', 'sport',\n",
       "       'politics', 'business', 'tech', 'business', 'sport', 'business',\n",
       "       'entertainment', 'sport', 'politics', 'business', 'business',\n",
       "       'business', 'tech', 'politics', 'politics', 'sport', 'business',\n",
       "       'tech', 'tech', 'tech', 'sport', 'tech', 'politics', 'business',\n",
       "       'business', 'sport', 'business', 'politics', 'business', 'tech',\n",
       "       'tech', 'sport', 'tech', 'business', 'sport', 'business',\n",
       "       'business', 'business', 'politics', 'politics', 'entertainment',\n",
       "       'entertainment', 'entertainment', 'politics', 'tech', 'tech',\n",
       "       'politics', 'entertainment', 'business', 'sport', 'sport',\n",
       "       'politics', 'entertainment', 'politics', 'sport', 'business',\n",
       "       'business', 'business', 'entertainment', 'tech', 'sport',\n",
       "       'business', 'politics', 'politics', 'business', 'politics',\n",
       "       'sport', 'politics', 'business', 'tech', 'business', 'sport',\n",
       "       'sport', 'tech', 'sport', 'entertainment', 'tech', 'entertainment',\n",
       "       'tech', 'sport', 'politics', 'business', 'tech', 'politics',\n",
       "       'politics', 'entertainment', 'politics', 'business', 'business',\n",
       "       'tech', 'business', 'business', 'business', 'sport',\n",
       "       'entertainment', 'business', 'sport', 'business', 'sport', 'tech',\n",
       "       'business', 'politics', 'sport', 'business', 'sport', 'sport',\n",
       "       'entertainment', 'politics', 'tech', 'sport', 'business', 'sport',\n",
       "       'business', 'sport', 'sport', 'politics', 'tech', 'business',\n",
       "       'tech', 'business', 'sport', 'tech', 'business', 'entertainment',\n",
       "       'business', 'entertainment', 'sport', 'tech', 'politics',\n",
       "       'business', 'business', 'politics', 'sport', 'entertainment',\n",
       "       'tech', 'business', 'sport', 'entertainment', 'business',\n",
       "       'entertainment', 'business', 'politics', 'sport', 'sport',\n",
       "       'business', 'tech', 'sport', 'business', 'business', 'business',\n",
       "       'business', 'business', 'entertainment', 'business', 'sport',\n",
       "       'politics', 'tech', 'politics', 'tech', 'sport', 'tech',\n",
       "       'entertainment', 'business', 'business', 'entertainment',\n",
       "       'politics', 'sport', 'sport', 'sport', 'entertainment', 'tech',\n",
       "       'politics', 'entertainment', 'sport', 'sport', 'politics', 'tech',\n",
       "       'politics', 'entertainment', 'sport', 'entertainment', 'sport',\n",
       "       'tech', 'tech', 'sport', 'sport', 'business', 'tech',\n",
       "       'entertainment', 'business', 'tech', 'business', 'business',\n",
       "       'sport', 'entertainment', 'politics', 'entertainment',\n",
       "       'entertainment', 'politics', 'business', 'politics', 'sport',\n",
       "       'tech', 'tech', 'politics', 'entertainment', 'business', 'tech',\n",
       "       'entertainment', 'entertainment', 'politics', 'business',\n",
       "       'business', 'politics', 'politics', 'tech', 'sport', 'business',\n",
       "       'entertainment', 'politics', 'business', 'politics'], dtype=object)"
      ]
     },
     "execution_count": 27,
     "metadata": {},
     "output_type": "execute_result"
    }
   ],
   "source": [
    "label_encoder.inverse_transform(category_number)"
   ]
  },
  {
   "cell_type": "code",
   "execution_count": 28,
   "id": "df97477d",
   "metadata": {},
   "outputs": [
    {
     "data": {
      "text/plain": [
       "array(['business', 'entertainment', 'politics', 'sport', 'tech'],\n",
       "      dtype=object)"
      ]
     },
     "execution_count": 28,
     "metadata": {},
     "output_type": "execute_result"
    }
   ],
   "source": [
    "label_encoder.classes_"
   ]
  },
  {
   "cell_type": "code",
   "execution_count": null,
   "id": "c5e3d65d",
   "metadata": {},
   "outputs": [],
   "source": []
  },
  {
   "cell_type": "code",
   "execution_count": 29,
   "id": "1c719e0e",
   "metadata": {},
   "outputs": [
    {
     "data": {
      "text/plain": [
       "'news_classification_model/0003'"
      ]
     },
     "execution_count": 29,
     "metadata": {},
     "output_type": "execute_result"
    }
   ],
   "source": [
    "model_version = \"0003\"\n",
    "model_name = \"news_classification_model\"\n",
    "model_path = os.path.join(model_name, model_version)\n",
    "model_path"
   ]
  },
  {
   "cell_type": "code",
   "execution_count": 37,
   "id": "711210e0",
   "metadata": {},
   "outputs": [
    {
     "name": "stdout",
     "output_type": "stream",
     "text": [
      "INFO:tensorflow:Assets written to: news_classification_model/0003/assets\n"
     ]
    },
    {
     "name": "stderr",
     "output_type": "stream",
     "text": [
      "INFO:tensorflow:Assets written to: news_classification_model/0003/assets\n"
     ]
    }
   ],
   "source": [
    "tf.saved_model.save(model, model_path)"
   ]
  },
  {
   "cell_type": "code",
   "execution_count": 38,
   "id": "3cc2847d",
   "metadata": {},
   "outputs": [],
   "source": [
    "model_sv = tf.saved_model.load(model_path)"
   ]
  },
  {
   "cell_type": "code",
   "execution_count": 40,
   "id": "cb45534d",
   "metadata": {},
   "outputs": [
    {
     "data": {
      "text/plain": [
       "_SignatureMap({'serving_default': <ConcreteFunction signature_wrapper(*, dense_15_input) at 0x7F34307DE730>})"
      ]
     },
     "execution_count": 40,
     "metadata": {},
     "output_type": "execute_result"
    }
   ],
   "source": [
    "model_sv()"
   ]
  },
  {
   "cell_type": "code",
   "execution_count": null,
   "id": "7a321265",
   "metadata": {},
   "outputs": [],
   "source": []
  },
  {
   "cell_type": "code",
   "execution_count": 33,
   "id": "ee5d3c30",
   "metadata": {},
   "outputs": [
    {
     "ename": "ValueError",
     "evalue": "Could not find matching concrete function to call loaded from the SavedModel. Got:\n  Positional arguments (3 total):\n    * Tensor(\"inputs:0\", shape=(735, 2000), dtype=float64)\n    * False\n    * None\n  Keyword arguments: {}\n\n Expected these arguments to match one of the following 4 option(s):\n\nOption 1:\n  Positional arguments (3 total):\n    * TensorSpec(shape=(None, 2000), dtype=tf.float32, name='dense_15_input')\n    * False\n    * None\n  Keyword arguments: {}\n\nOption 2:\n  Positional arguments (3 total):\n    * TensorSpec(shape=(None, 2000), dtype=tf.float32, name='inputs')\n    * False\n    * None\n  Keyword arguments: {}\n\nOption 3:\n  Positional arguments (3 total):\n    * TensorSpec(shape=(None, 2000), dtype=tf.float32, name='inputs')\n    * True\n    * None\n  Keyword arguments: {}\n\nOption 4:\n  Positional arguments (3 total):\n    * TensorSpec(shape=(None, 2000), dtype=tf.float32, name='dense_15_input')\n    * True\n    * None\n  Keyword arguments: {}",
     "output_type": "error",
     "traceback": [
      "\u001b[0;31m---------------------------------------------------------------------------\u001b[0m",
      "\u001b[0;31mValueError\u001b[0m                                Traceback (most recent call last)",
      "\u001b[0;32m/tmp/ipykernel_52174/1374717120.py\u001b[0m in \u001b[0;36m<module>\u001b[0;34m\u001b[0m\n\u001b[0;32m----> 1\u001b[0;31m \u001b[0mmodel_sv\u001b[0m\u001b[0;34m(\u001b[0m\u001b[0mx_test\u001b[0m\u001b[0;34m)\u001b[0m\u001b[0;34m\u001b[0m\u001b[0;34m\u001b[0m\u001b[0m\n\u001b[0m",
      "\u001b[0;32m~/miniconda3/envs/ineuron/lib/python3.8/site-packages/tensorflow/python/saved_model/load.py\u001b[0m in \u001b[0;36m_call_attribute\u001b[0;34m(instance, *args, **kwargs)\u001b[0m\n\u001b[1;32m    699\u001b[0m \u001b[0;34m\u001b[0m\u001b[0m\n\u001b[1;32m    700\u001b[0m \u001b[0;32mdef\u001b[0m \u001b[0m_call_attribute\u001b[0m\u001b[0;34m(\u001b[0m\u001b[0minstance\u001b[0m\u001b[0;34m,\u001b[0m \u001b[0;34m*\u001b[0m\u001b[0margs\u001b[0m\u001b[0;34m,\u001b[0m \u001b[0;34m**\u001b[0m\u001b[0mkwargs\u001b[0m\u001b[0;34m)\u001b[0m\u001b[0;34m:\u001b[0m\u001b[0;34m\u001b[0m\u001b[0;34m\u001b[0m\u001b[0m\n\u001b[0;32m--> 701\u001b[0;31m   \u001b[0;32mreturn\u001b[0m \u001b[0minstance\u001b[0m\u001b[0;34m.\u001b[0m\u001b[0m__call__\u001b[0m\u001b[0;34m(\u001b[0m\u001b[0;34m*\u001b[0m\u001b[0margs\u001b[0m\u001b[0;34m,\u001b[0m \u001b[0;34m**\u001b[0m\u001b[0mkwargs\u001b[0m\u001b[0;34m)\u001b[0m\u001b[0;34m\u001b[0m\u001b[0;34m\u001b[0m\u001b[0m\n\u001b[0m\u001b[1;32m    702\u001b[0m \u001b[0;34m\u001b[0m\u001b[0m\n\u001b[1;32m    703\u001b[0m \u001b[0;34m\u001b[0m\u001b[0m\n",
      "\u001b[0;32m~/miniconda3/envs/ineuron/lib/python3.8/site-packages/tensorflow/python/util/traceback_utils.py\u001b[0m in \u001b[0;36merror_handler\u001b[0;34m(*args, **kwargs)\u001b[0m\n\u001b[1;32m    151\u001b[0m     \u001b[0;32mexcept\u001b[0m \u001b[0mException\u001b[0m \u001b[0;32mas\u001b[0m \u001b[0me\u001b[0m\u001b[0;34m:\u001b[0m\u001b[0;34m\u001b[0m\u001b[0;34m\u001b[0m\u001b[0m\n\u001b[1;32m    152\u001b[0m       \u001b[0mfiltered_tb\u001b[0m \u001b[0;34m=\u001b[0m \u001b[0m_process_traceback_frames\u001b[0m\u001b[0;34m(\u001b[0m\u001b[0me\u001b[0m\u001b[0;34m.\u001b[0m\u001b[0m__traceback__\u001b[0m\u001b[0;34m)\u001b[0m\u001b[0;34m\u001b[0m\u001b[0;34m\u001b[0m\u001b[0m\n\u001b[0;32m--> 153\u001b[0;31m       \u001b[0;32mraise\u001b[0m \u001b[0me\u001b[0m\u001b[0;34m.\u001b[0m\u001b[0mwith_traceback\u001b[0m\u001b[0;34m(\u001b[0m\u001b[0mfiltered_tb\u001b[0m\u001b[0;34m)\u001b[0m \u001b[0;32mfrom\u001b[0m \u001b[0;32mNone\u001b[0m\u001b[0;34m\u001b[0m\u001b[0;34m\u001b[0m\u001b[0m\n\u001b[0m\u001b[1;32m    154\u001b[0m     \u001b[0;32mfinally\u001b[0m\u001b[0;34m:\u001b[0m\u001b[0;34m\u001b[0m\u001b[0;34m\u001b[0m\u001b[0m\n\u001b[1;32m    155\u001b[0m       \u001b[0;32mdel\u001b[0m \u001b[0mfiltered_tb\u001b[0m\u001b[0;34m\u001b[0m\u001b[0;34m\u001b[0m\u001b[0m\n",
      "\u001b[0;32m~/miniconda3/envs/ineuron/lib/python3.8/site-packages/tensorflow/python/saved_model/function_deserialization.py\u001b[0m in \u001b[0;36mrestored_function_body\u001b[0;34m(*args, **kwargs)\u001b[0m\n\u001b[1;32m    287\u001b[0m           \u001b[0;34m\"Option {}:\\n  {}\\n  Keyword arguments: {}\"\u001b[0m\u001b[0;34m\u001b[0m\u001b[0;34m\u001b[0m\u001b[0m\n\u001b[1;32m    288\u001b[0m           .format(index + 1, _pretty_format_positional(positional), keyword))\n\u001b[0;32m--> 289\u001b[0;31m     raise ValueError(\n\u001b[0m\u001b[1;32m    290\u001b[0m         \u001b[0;34m\"Could not find matching concrete function to call loaded from the \"\u001b[0m\u001b[0;34m\u001b[0m\u001b[0;34m\u001b[0m\u001b[0m\n\u001b[1;32m    291\u001b[0m         \u001b[0;34mf\"SavedModel. Got:\\n  {_pretty_format_positional(args)}\\n  Keyword \"\u001b[0m\u001b[0;34m\u001b[0m\u001b[0;34m\u001b[0m\u001b[0m\n",
      "\u001b[0;31mValueError\u001b[0m: Could not find matching concrete function to call loaded from the SavedModel. Got:\n  Positional arguments (3 total):\n    * Tensor(\"inputs:0\", shape=(735, 2000), dtype=float64)\n    * False\n    * None\n  Keyword arguments: {}\n\n Expected these arguments to match one of the following 4 option(s):\n\nOption 1:\n  Positional arguments (3 total):\n    * TensorSpec(shape=(None, 2000), dtype=tf.float32, name='dense_15_input')\n    * False\n    * None\n  Keyword arguments: {}\n\nOption 2:\n  Positional arguments (3 total):\n    * TensorSpec(shape=(None, 2000), dtype=tf.float32, name='inputs')\n    * False\n    * None\n  Keyword arguments: {}\n\nOption 3:\n  Positional arguments (3 total):\n    * TensorSpec(shape=(None, 2000), dtype=tf.float32, name='inputs')\n    * True\n    * None\n  Keyword arguments: {}\n\nOption 4:\n  Positional arguments (3 total):\n    * TensorSpec(shape=(None, 2000), dtype=tf.float32, name='dense_15_input')\n    * True\n    * None\n  Keyword arguments: {}"
     ]
    }
   ],
   "source": [
    "model_sv(x_test)"
   ]
  },
  {
   "cell_type": "code",
   "execution_count": null,
   "id": "e4b7ba55",
   "metadata": {},
   "outputs": [],
   "source": []
  },
  {
   "cell_type": "code",
   "execution_count": 178,
   "id": "9c71f050",
   "metadata": {},
   "outputs": [],
   "source": [
    "from transformers import AutoTokenizer"
   ]
  },
  {
   "cell_type": "code",
   "execution_count": 179,
   "id": "37fb7f21",
   "metadata": {},
   "outputs": [
    {
     "data": {
      "application/vnd.jupyter.widget-view+json": {
       "model_id": "2408fdd523824e2ca5578660f806a084",
       "version_major": 2,
       "version_minor": 0
      },
      "text/plain": [
       "Downloading:   0%|          | 0.00/28.0 [00:00<?, ?B/s]"
      ]
     },
     "metadata": {},
     "output_type": "display_data"
    },
    {
     "data": {
      "application/vnd.jupyter.widget-view+json": {
       "model_id": "9530a359c6c441339ed38ddede20b79e",
       "version_major": 2,
       "version_minor": 0
      },
      "text/plain": [
       "Downloading:   0%|          | 0.00/570 [00:00<?, ?B/s]"
      ]
     },
     "metadata": {},
     "output_type": "display_data"
    },
    {
     "data": {
      "application/vnd.jupyter.widget-view+json": {
       "model_id": "08bc1da47ef24822903a4a075a5182d1",
       "version_major": 2,
       "version_minor": 0
      },
      "text/plain": [
       "Downloading:   0%|          | 0.00/226k [00:00<?, ?B/s]"
      ]
     },
     "metadata": {},
     "output_type": "display_data"
    },
    {
     "data": {
      "application/vnd.jupyter.widget-view+json": {
       "model_id": "c5f6efcd917044eb974a0b4098317a48",
       "version_major": 2,
       "version_minor": 0
      },
      "text/plain": [
       "Downloading:   0%|          | 0.00/455k [00:00<?, ?B/s]"
      ]
     },
     "metadata": {},
     "output_type": "display_data"
    }
   ],
   "source": [
    "tokenizer = AutoTokenizer.from_pretrained('bert-base-uncased')"
   ]
  },
  {
   "cell_type": "code",
   "execution_count": 181,
   "id": "fd33acbe",
   "metadata": {},
   "outputs": [],
   "source": [
    "sample_text = 'berlin hails european cinema organisers say this year s berlin film festival  which opens on thursday with period epic man to man  will celebrate a revitalised european cinema.  of the 21 films in competition for the golden and silver bear awards  more than half are from europe with france particularly well represented. festival director dieter kosslick says this strong showing signals  a new consciousness for european films .  they re on an incredible winning streak   he told the reuters agency.  this isn t to say there aren t any good american films   he continued.  it s just that there are more good european films.   however  mr kosslick refused to accept that widespread opposition to the iraq war had turned audiences against hollywood imports.  there is no anti american mood   he said. some 350 films will be screened at this year s festival  with a further 300 shown at the european film market that runs alongside it. more than a dozen celebrities are scheduled to attend  among them will smith  kevin spacey and keanu reeves. but mr kosslick says more would be coming had the academy awards not been brought forward to 27 february.  i m not worried that we won t be able to fill the red carpet with stars   he said  though he admitted the festival may be moved to january next year to avoid a similar clash. the 10 day berlinale runs until 20 february.'"
   ]
  },
  {
   "cell_type": "code",
   "execution_count": 182,
   "id": "16ebbd71",
   "metadata": {},
   "outputs": [],
   "source": [
    "inputs = tokenizer(sample_text)"
   ]
  },
  {
   "cell_type": "code",
   "execution_count": 183,
   "id": "133a4250",
   "metadata": {},
   "outputs": [
    {
     "data": {
      "text/plain": [
       "{'input_ids': [101, 4068, 16889, 2015, 2647, 5988, 22933, 2869, 2360, 2023, 2095, 1055, 4068, 2143, 2782, 2029, 7480, 2006, 9432, 2007, 2558, 8680, 2158, 2000, 2158, 2097, 8439, 1037, 7065, 18400, 5084, 2647, 5988, 1012, 1997, 1996, 2538, 3152, 1999, 2971, 2005, 1996, 3585, 1998, 3165, 4562, 2982, 2062, 2084, 2431, 2024, 2013, 2885, 2007, 2605, 3391, 2092, 3421, 1012, 2782, 2472, 27976, 12849, 4757, 25230, 2758, 2023, 2844, 4760, 7755, 1037, 2047, 8298, 2005, 2647, 3152, 1012, 2027, 2128, 2006, 2019, 9788, 3045, 9039, 2002, 2409, 1996, 26665, 4034, 1012, 2023, 3475, 1056, 2000, 2360, 2045, 4995, 1056, 2151, 2204, 2137, 3152, 2002, 2506, 1012, 2009, 1055, 2074, 2008, 2045, 2024, 2062, 2204, 2647, 3152, 1012, 2174, 2720, 12849, 4757, 25230, 4188, 2000, 5138, 2008, 6923, 4559, 2000, 1996, 5712, 2162, 2018, 2357, 9501, 2114, 5365, 17589, 1012, 2045, 2003, 2053, 3424, 2137, 6888, 2002, 2056, 1012, 2070, 8698, 3152, 2097, 2022, 12238, 2012, 2023, 2095, 1055, 2782, 2007, 1037, 2582, 3998, 3491, 2012, 1996, 2647, 2143, 3006, 2008, 3216, 4077, 2009, 1012, 2062, 2084, 1037, 6474, 12330, 2024, 5115, 2000, 5463, 2426, 2068, 2097, 3044, 4901, 2686, 2100, 1998, 17710, 24076, 17891, 1012, 2021, 2720, 12849, 4757, 25230, 2758, 2062, 2052, 2022, 2746, 2018, 1996, 2914, 2982, 2025, 2042, 2716, 2830, 2000, 2676, 2337, 1012, 1045, 1049, 2025, 5191, 2008, 2057, 2180, 1056, 2022, 2583, 2000, 6039, 1996, 2417, 10135, 2007, 3340, 2002, 2056, 2295, 2002, 4914, 1996, 2782, 2089, 2022, 2333, 2000, 2254, 2279, 2095, 2000, 4468, 1037, 2714, 13249, 1012, 1996, 2184, 2154, 4068, 9453, 3216, 2127, 2322, 2337, 1012, 102], 'token_type_ids': [0, 0, 0, 0, 0, 0, 0, 0, 0, 0, 0, 0, 0, 0, 0, 0, 0, 0, 0, 0, 0, 0, 0, 0, 0, 0, 0, 0, 0, 0, 0, 0, 0, 0, 0, 0, 0, 0, 0, 0, 0, 0, 0, 0, 0, 0, 0, 0, 0, 0, 0, 0, 0, 0, 0, 0, 0, 0, 0, 0, 0, 0, 0, 0, 0, 0, 0, 0, 0, 0, 0, 0, 0, 0, 0, 0, 0, 0, 0, 0, 0, 0, 0, 0, 0, 0, 0, 0, 0, 0, 0, 0, 0, 0, 0, 0, 0, 0, 0, 0, 0, 0, 0, 0, 0, 0, 0, 0, 0, 0, 0, 0, 0, 0, 0, 0, 0, 0, 0, 0, 0, 0, 0, 0, 0, 0, 0, 0, 0, 0, 0, 0, 0, 0, 0, 0, 0, 0, 0, 0, 0, 0, 0, 0, 0, 0, 0, 0, 0, 0, 0, 0, 0, 0, 0, 0, 0, 0, 0, 0, 0, 0, 0, 0, 0, 0, 0, 0, 0, 0, 0, 0, 0, 0, 0, 0, 0, 0, 0, 0, 0, 0, 0, 0, 0, 0, 0, 0, 0, 0, 0, 0, 0, 0, 0, 0, 0, 0, 0, 0, 0, 0, 0, 0, 0, 0, 0, 0, 0, 0, 0, 0, 0, 0, 0, 0, 0, 0, 0, 0, 0, 0, 0, 0, 0, 0, 0, 0, 0, 0, 0, 0, 0, 0, 0, 0, 0, 0, 0, 0, 0, 0, 0, 0, 0, 0, 0, 0, 0, 0, 0, 0, 0, 0, 0, 0, 0, 0, 0, 0, 0, 0, 0, 0], 'attention_mask': [1, 1, 1, 1, 1, 1, 1, 1, 1, 1, 1, 1, 1, 1, 1, 1, 1, 1, 1, 1, 1, 1, 1, 1, 1, 1, 1, 1, 1, 1, 1, 1, 1, 1, 1, 1, 1, 1, 1, 1, 1, 1, 1, 1, 1, 1, 1, 1, 1, 1, 1, 1, 1, 1, 1, 1, 1, 1, 1, 1, 1, 1, 1, 1, 1, 1, 1, 1, 1, 1, 1, 1, 1, 1, 1, 1, 1, 1, 1, 1, 1, 1, 1, 1, 1, 1, 1, 1, 1, 1, 1, 1, 1, 1, 1, 1, 1, 1, 1, 1, 1, 1, 1, 1, 1, 1, 1, 1, 1, 1, 1, 1, 1, 1, 1, 1, 1, 1, 1, 1, 1, 1, 1, 1, 1, 1, 1, 1, 1, 1, 1, 1, 1, 1, 1, 1, 1, 1, 1, 1, 1, 1, 1, 1, 1, 1, 1, 1, 1, 1, 1, 1, 1, 1, 1, 1, 1, 1, 1, 1, 1, 1, 1, 1, 1, 1, 1, 1, 1, 1, 1, 1, 1, 1, 1, 1, 1, 1, 1, 1, 1, 1, 1, 1, 1, 1, 1, 1, 1, 1, 1, 1, 1, 1, 1, 1, 1, 1, 1, 1, 1, 1, 1, 1, 1, 1, 1, 1, 1, 1, 1, 1, 1, 1, 1, 1, 1, 1, 1, 1, 1, 1, 1, 1, 1, 1, 1, 1, 1, 1, 1, 1, 1, 1, 1, 1, 1, 1, 1, 1, 1, 1, 1, 1, 1, 1, 1, 1, 1, 1, 1, 1, 1, 1, 1, 1, 1, 1, 1, 1, 1, 1, 1, 1]}"
      ]
     },
     "execution_count": 183,
     "metadata": {},
     "output_type": "execute_result"
    }
   ],
   "source": [
    "inputs"
   ]
  },
  {
   "cell_type": "code",
   "execution_count": 185,
   "id": "ccefc35d",
   "metadata": {},
   "outputs": [
    {
     "data": {
      "text/plain": [
       "'[CLS] berlin hails european cinema organisers say this year s berlin film festival which opens on thursday with period epic man to man will celebrate a revitalised european cinema. of the 21 films in competition for the golden and silver bear awards more than half are from europe with france particularly well represented. festival director dieter kosslick says this strong showing signals a new consciousness for european films. they re on an incredible winning streak he told the reuters agency. this isn t to say there aren t any good american films he continued. it s just that there are more good european films. however mr kosslick refused to accept that widespread opposition to the iraq war had turned audiences against hollywood imports. there is no anti american mood he said. some 350 films will be screened at this year s festival with a further 300 shown at the european film market that runs alongside it. more than a dozen celebrities are scheduled to attend among them will smith kevin spacey and keanu reeves. but mr kosslick says more would be coming had the academy awards not been brought forward to 27 february. i m not worried that we won t be able to fill the red carpet with stars he said though he admitted the festival may be moved to january next year to avoid a similar clash. the 10 day berlinale runs until 20 february. [SEP]'"
      ]
     },
     "execution_count": 185,
     "metadata": {},
     "output_type": "execute_result"
    }
   ],
   "source": [
    "tokenizer.decode(inputs['input_ids'])"
   ]
  },
  {
   "cell_type": "code",
   "execution_count": null,
   "id": "9f374a31",
   "metadata": {},
   "outputs": [],
   "source": []
  }
 ],
 "metadata": {
  "kernelspec": {
   "display_name": "Python 3 (ipykernel)",
   "language": "python",
   "name": "python3"
  },
  "language_info": {
   "codemirror_mode": {
    "name": "ipython",
    "version": 3
   },
   "file_extension": ".py",
   "mimetype": "text/x-python",
   "name": "python",
   "nbconvert_exporter": "python",
   "pygments_lexer": "ipython3",
   "version": "3.8.12"
  }
 },
 "nbformat": 4,
 "nbformat_minor": 5
}
